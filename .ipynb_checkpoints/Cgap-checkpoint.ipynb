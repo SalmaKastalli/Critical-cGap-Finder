{
 "cells": [
  {
   "cell_type": "markdown",
   "id": "95a01526",
   "metadata": {},
   "source": [
    "As discussed here is the GAP master table which is provided by the regional regulatory managers, in which there are each of the requested GAPs by country, crop and product.\n",
    "\n",
    "My question was whether it would be possible to identify among all these GAPs, the most critical GAP by formulation (J-neck) / by regulatory zone (G-collar) / by crop (O-collar).\n",
    "As for crops, for cereals, we only look at wheat & barley (and not rye, triticale, spelt, oat), but on the other hand all barley together (eg spring & winter) and all wheat together (eg durum, spring, winter). The same is true for grater, for example.\n",
    "\n",
    "To do this, here are the 5 criteria that define the most critical APU:\n",
    "- 1-\tDose-spleen-to-application (CS neck), higher is the most critical\n",
    "- 2-\tNb of application (AJ collar), the highest is the most critical (but be careful 2*50g/ha is not more critical than 1*100g/ha)\n",
    "- 3-\tBBCH stage the latest (col AG, e.g. 30-61 for barley, 61 is the latest) applicationn timing BBCH end\n",
    "- 4-\tThe shortest PHI (AI collar) is the most critical\n",
    "- 5-\tInterval between applications (AO collar). When there are multiple applications, the smallest interval is the most critical \n",
    "\n",
    "As for the hierarchy between these parameters, it is difficult to say because they are all somewhat interconnected and influence each other.\n",
    "For example, in the case mentioned above 2*50g/ha vs 1*100g/ha, in this case it is one of the other parameters that will be able to decide which is the most critical, such as the PHI. \n",
    "\n",
    "As I was telling you, I don't think it's frequent but it can happen that for a formulation/crop, one country requires a very high dose and another country in the same area requires a lower dose but a very short PHI.\n",
    "In this case, could your application come up with these 2 critical APGs, because one is not more critical than the other dose vs PHI.\n",
    "\n"
   ]
  },
  {
   "cell_type": "code",
   "execution_count": 9,
   "id": "d27f85de",
   "metadata": {},
   "outputs": [],
   "source": [
    "import pandas as pd\n",
    "\n",
    "# Replace 'file_path' with the actual path to your Excel file\n",
    "file_path = \"240701_PTZ & FXA PostAR Master GAP Table with revised GAPs based on PTZ_B and FXA_A scenarios_28June2024.xlsm\"\n",
    "\n",
    "# Read the Excel file into a pandas DataFrame, selecting the 'MasterGAP' sheet\n",
    "df = pd.read_excel(file_path, sheet_name='MasterGAP', skiprows=3, header=3)"
   ]
  },
  {
   "cell_type": "code",
   "execution_count": 19,
   "id": "b6907fdf",
   "metadata": {},
   "outputs": [
    {
     "data": {
      "text/plain": [
       "Index(['applicationn timing (further info)', 'PHI',\n",
       "       'Max # of applns.\\n(per block)', '# of crop cycles (per \"year\")',\n",
       "       'Max total #  of applns. per crop & season\\n(incl. no of cycles)',\n",
       "       'Further info on  season & cycles', 'Unnamed: 39',\n",
       "       'Minimum appl. interval\\n(days)', 'Maximum appl. interval\\n(days)',\n",
       "       'Minimum interval to previous block\\n(days)',\n",
       "       'Maximum interval to previous block (days)',\n",
       "       'Appl./block interval (further info)',\n",
       "       'Unit for field product applicationn rate',\n",
       "       'Minimum appl. rate for product (per ha)',\n",
       "       'Maximum appl rate for product (per ha)',\n",
       "       'Max product appl. rate per crop & season \\n(incl. no of cycles)',\n",
       "       'Water volume min (L/ha)'],\n",
       "      dtype='object')"
      ]
     },
     "execution_count": 19,
     "metadata": {},
     "output_type": "execute_result"
    }
   ],
   "source": [
    "df.columns[33:50]"
   ]
  },
  {
   "cell_type": "code",
   "execution_count": 78,
   "id": "877dac64",
   "metadata": {},
   "outputs": [],
   "source": [
    "cgap_df=df[['Residues region','Product\\n(PLT short)','Crop','Application rate PTZ (g/ha)','PHI','applicationn timing BBCH range','Max # of applns.\\n(per block)','Minimum appl. interval\\n(days)']]"
   ]
  },
  {
   "cell_type": "code",
   "execution_count": 79,
   "id": "fc1506fa",
   "metadata": {},
   "outputs": [
    {
     "data": {
      "text/html": [
       "<div>\n",
       "<style scoped>\n",
       "    .dataframe tbody tr th:only-of-type {\n",
       "        vertical-align: middle;\n",
       "    }\n",
       "\n",
       "    .dataframe tbody tr th {\n",
       "        vertical-align: top;\n",
       "    }\n",
       "\n",
       "    .dataframe thead th {\n",
       "        text-align: right;\n",
       "    }\n",
       "</style>\n",
       "<table border=\"1\" class=\"dataframe\">\n",
       "  <thead>\n",
       "    <tr style=\"text-align: right;\">\n",
       "      <th></th>\n",
       "      <th>Residues region</th>\n",
       "      <th>Product\\n(PLT short)</th>\n",
       "      <th>Crop</th>\n",
       "      <th>Application rate PTZ (g/ha)</th>\n",
       "      <th>PHI</th>\n",
       "      <th>applicationn timing BBCH range</th>\n",
       "      <th>Max # of applns.\\n(per block)</th>\n",
       "      <th>Minimum appl. interval\\n(days)</th>\n",
       "    </tr>\n",
       "  </thead>\n",
       "  <tbody>\n",
       "    <tr>\n",
       "      <th>0</th>\n",
       "      <td>North EU</td>\n",
       "      <td>BIX+FLU+PTZ EC 260 (65+65+130 g/L)</td>\n",
       "      <td>Barley, spring</td>\n",
       "      <td>156</td>\n",
       "      <td>-1</td>\n",
       "      <td>30-61</td>\n",
       "      <td>1</td>\n",
       "      <td>0</td>\n",
       "    </tr>\n",
       "    <tr>\n",
       "      <th>1</th>\n",
       "      <td>North EU</td>\n",
       "      <td>BIX+FLU+PTZ EC 260 (65+65+130 g/L)</td>\n",
       "      <td>Barley, spring</td>\n",
       "      <td>156</td>\n",
       "      <td>-1</td>\n",
       "      <td>30-61</td>\n",
       "      <td>1</td>\n",
       "      <td>0</td>\n",
       "    </tr>\n",
       "    <tr>\n",
       "      <th>2</th>\n",
       "      <td>North EU</td>\n",
       "      <td>BIX+FLU+PTZ EC 260 (65+65+130 g/L)</td>\n",
       "      <td>Barley, spring</td>\n",
       "      <td>156</td>\n",
       "      <td>-1</td>\n",
       "      <td>30-61</td>\n",
       "      <td>1</td>\n",
       "      <td>0</td>\n",
       "    </tr>\n",
       "  </tbody>\n",
       "</table>\n",
       "</div>"
      ],
      "text/plain": [
       "  Residues region                Product\\n(PLT short)            Crop  \\\n",
       "0        North EU  BIX+FLU+PTZ EC 260 (65+65+130 g/L)  Barley, spring   \n",
       "1        North EU  BIX+FLU+PTZ EC 260 (65+65+130 g/L)  Barley, spring   \n",
       "2        North EU  BIX+FLU+PTZ EC 260 (65+65+130 g/L)  Barley, spring   \n",
       "\n",
       "  Application rate PTZ (g/ha) PHI applicationn timing BBCH range  \\\n",
       "0                         156  -1                          30-61   \n",
       "1                         156  -1                          30-61   \n",
       "2                         156  -1                          30-61   \n",
       "\n",
       "  Max # of applns.\\n(per block) Minimum appl. interval\\n(days)  \n",
       "0                             1                              0  \n",
       "1                             1                              0  \n",
       "2                             1                              0  "
      ]
     },
     "execution_count": 79,
     "metadata": {},
     "output_type": "execute_result"
    }
   ],
   "source": [
    "cgap_df.head(3)"
   ]
  },
  {
   "cell_type": "code",
   "execution_count": 86,
   "id": "c853dbff",
   "metadata": {},
   "outputs": [],
   "source": [
    "cgap_df=df[['Product\\n(PLT short)','Residues region','Crop','applicationn timing BBCH range','Max # of applns.\\n(per block)','Application rate PTZ (g/ha)',\n",
    "        'PHI', 'Minimum appl. interval\\n(days)']]"
   ]
  },
  {
   "cell_type": "code",
   "execution_count": 62,
   "id": "a04a8deb",
   "metadata": {},
   "outputs": [],
   "source": [
    "cgap_df.to_csv('cgap_df.csv', index=False) "
   ]
  },
  {
   "cell_type": "markdown",
   "id": "781d0afc",
   "metadata": {},
   "source": [
    "- 1 - (Application rate PTZ (g/ha)), higher is the most critical\n",
    "- 2 - Nb of application (Max # of applns.\\n(per block)), the highest is the most critical (but be careful 250g/ha is not more critical than 1100g/ha)\n",
    "- 3- BBCH stage the latest (applicationn timing BBCH range) max\n",
    "- 4- The shortest PHI (PHI): smaller  is the most critical\n",
    "- 5- Interval between applications (Minimum appl. interval\\n(days)). When there are multiple applications, the smallest interval is the most critical     "
   ]
  },
  {
   "cell_type": "code",
   "execution_count": 92,
   "id": "f2369381",
   "metadata": {},
   "outputs": [],
   "source": [
    "# Group by columns 'a', 'b', and 'c', and find the critical values in columns 'd' and 'e'\n",
    "critical_values = df.groupby(['Residues region','Product\\n(PLT short)','Crop']).agg({'Application rate PTZ (g/ha)': 'max',\n",
    "                                                                                     'Max # of applns.\\n(per block)': 'max',\n",
    "                                                                                    'applicationn timing BBCH range':'max',\n",
    "                                                                                    'PHI':'min',\n",
    "                                                                                    'Minimum appl. interval\\n(days)':'min'}).reset_index()"
   ]
  },
  {
   "cell_type": "code",
   "execution_count": 83,
   "id": "9a0f04cf",
   "metadata": {},
   "outputs": [
    {
     "data": {
      "text/html": [
       "<div>\n",
       "<style scoped>\n",
       "    .dataframe tbody tr th:only-of-type {\n",
       "        vertical-align: middle;\n",
       "    }\n",
       "\n",
       "    .dataframe tbody tr th {\n",
       "        vertical-align: top;\n",
       "    }\n",
       "\n",
       "    .dataframe thead th {\n",
       "        text-align: right;\n",
       "    }\n",
       "</style>\n",
       "<table border=\"1\" class=\"dataframe\">\n",
       "  <thead>\n",
       "    <tr style=\"text-align: right;\">\n",
       "      <th></th>\n",
       "      <th>Residues region</th>\n",
       "      <th>Product\\n(PLT short)</th>\n",
       "      <th>Crop</th>\n",
       "      <th>Application rate PTZ (g/ha)</th>\n",
       "      <th>Max # of applns.\\n(per block)</th>\n",
       "      <th>applicationn timing BBCH range</th>\n",
       "      <th>PHI</th>\n",
       "      <th>Minimum appl. interval\\n(days)</th>\n",
       "    </tr>\n",
       "  </thead>\n",
       "  <tbody>\n",
       "    <tr>\n",
       "      <th>0</th>\n",
       "      <td>North EU</td>\n",
       "      <td>BIX+FLU+PTZ EC 260 (65+65+130 g/L)</td>\n",
       "      <td>Barley</td>\n",
       "      <td>156</td>\n",
       "      <td>1</td>\n",
       "      <td>40-61</td>\n",
       "      <td>-1</td>\n",
       "      <td>0</td>\n",
       "    </tr>\n",
       "    <tr>\n",
       "      <th>1</th>\n",
       "      <td>North EU</td>\n",
       "      <td>BIX+FLU+PTZ EC 260 (65+65+130 g/L)</td>\n",
       "      <td>Oat</td>\n",
       "      <td>156</td>\n",
       "      <td>1</td>\n",
       "      <td>40-61</td>\n",
       "      <td>-1</td>\n",
       "      <td>0</td>\n",
       "    </tr>\n",
       "    <tr>\n",
       "      <th>2</th>\n",
       "      <td>North EU</td>\n",
       "      <td>BIX+FLU+PTZ EC 260 (65+65+130 g/L)</td>\n",
       "      <td>Rye</td>\n",
       "      <td>156</td>\n",
       "      <td>1</td>\n",
       "      <td>40-61</td>\n",
       "      <td>-1</td>\n",
       "      <td>0</td>\n",
       "    </tr>\n",
       "    <tr>\n",
       "      <th>3</th>\n",
       "      <td>North EU</td>\n",
       "      <td>BIX+FLU+PTZ EC 260 (65+65+130 g/L)</td>\n",
       "      <td>Rye, spring</td>\n",
       "      <td>156</td>\n",
       "      <td>1</td>\n",
       "      <td>30-61</td>\n",
       "      <td>-1</td>\n",
       "      <td>0</td>\n",
       "    </tr>\n",
       "    <tr>\n",
       "      <th>4</th>\n",
       "      <td>North EU</td>\n",
       "      <td>BIX+FLU+PTZ EC 260 (65+65+130 g/L)</td>\n",
       "      <td>Rye, winter</td>\n",
       "      <td>156</td>\n",
       "      <td>1</td>\n",
       "      <td>30-61</td>\n",
       "      <td>-1</td>\n",
       "      <td>0</td>\n",
       "    </tr>\n",
       "    <tr>\n",
       "      <th>...</th>\n",
       "      <td>...</td>\n",
       "      <td>...</td>\n",
       "      <td>...</td>\n",
       "      <td>...</td>\n",
       "      <td>...</td>\n",
       "      <td>...</td>\n",
       "      <td>...</td>\n",
       "      <td>...</td>\n",
       "    </tr>\n",
       "    <tr>\n",
       "      <th>320</th>\n",
       "      <td>South EU</td>\n",
       "      <td>PTZ+TFS SC 263 (175+88 g/L)</td>\n",
       "      <td>Rye, spring</td>\n",
       "      <td>175</td>\n",
       "      <td>1</td>\n",
       "      <td>30-69</td>\n",
       "      <td>-1</td>\n",
       "      <td>0</td>\n",
       "    </tr>\n",
       "    <tr>\n",
       "      <th>321</th>\n",
       "      <td>South EU</td>\n",
       "      <td>PTZ+TFS SC 263 (175+88 g/L)</td>\n",
       "      <td>Rye, winter</td>\n",
       "      <td>175</td>\n",
       "      <td>1</td>\n",
       "      <td>30-69</td>\n",
       "      <td>-1</td>\n",
       "      <td>0</td>\n",
       "    </tr>\n",
       "    <tr>\n",
       "      <th>322</th>\n",
       "      <td>South EU</td>\n",
       "      <td>PTZ+TFS SC 263 (175+88 g/L)</td>\n",
       "      <td>Triticale, spring</td>\n",
       "      <td>175</td>\n",
       "      <td>1</td>\n",
       "      <td>30-69</td>\n",
       "      <td>-1</td>\n",
       "      <td>0</td>\n",
       "    </tr>\n",
       "    <tr>\n",
       "      <th>323</th>\n",
       "      <td>South EU</td>\n",
       "      <td>PTZ+TFS SC 263 (175+88 g/L)</td>\n",
       "      <td>Triticale, winter</td>\n",
       "      <td>175</td>\n",
       "      <td>1</td>\n",
       "      <td>30-69</td>\n",
       "      <td>-1</td>\n",
       "      <td>0</td>\n",
       "    </tr>\n",
       "    <tr>\n",
       "      <th>324</th>\n",
       "      <td>South EU</td>\n",
       "      <td>PTZ+TFS SC 263 (175+88 g/L)</td>\n",
       "      <td>Wheat</td>\n",
       "      <td>175</td>\n",
       "      <td>1</td>\n",
       "      <td>30-69</td>\n",
       "      <td>-1</td>\n",
       "      <td>0</td>\n",
       "    </tr>\n",
       "  </tbody>\n",
       "</table>\n",
       "<p>325 rows × 8 columns</p>\n",
       "</div>"
      ],
      "text/plain": [
       "    Residues region                Product\\n(PLT short)               Crop  \\\n",
       "0          North EU  BIX+FLU+PTZ EC 260 (65+65+130 g/L)             Barley   \n",
       "1          North EU  BIX+FLU+PTZ EC 260 (65+65+130 g/L)                Oat   \n",
       "2          North EU  BIX+FLU+PTZ EC 260 (65+65+130 g/L)                Rye   \n",
       "3          North EU  BIX+FLU+PTZ EC 260 (65+65+130 g/L)        Rye, spring   \n",
       "4          North EU  BIX+FLU+PTZ EC 260 (65+65+130 g/L)        Rye, winter   \n",
       "..              ...                                 ...                ...   \n",
       "320        South EU         PTZ+TFS SC 263 (175+88 g/L)        Rye, spring   \n",
       "321        South EU         PTZ+TFS SC 263 (175+88 g/L)        Rye, winter   \n",
       "322        South EU         PTZ+TFS SC 263 (175+88 g/L)  Triticale, spring   \n",
       "323        South EU         PTZ+TFS SC 263 (175+88 g/L)  Triticale, winter   \n",
       "324        South EU         PTZ+TFS SC 263 (175+88 g/L)              Wheat   \n",
       "\n",
       "    Application rate PTZ (g/ha) Max # of applns.\\n(per block)  \\\n",
       "0                           156                             1   \n",
       "1                           156                             1   \n",
       "2                           156                             1   \n",
       "3                           156                             1   \n",
       "4                           156                             1   \n",
       "..                          ...                           ...   \n",
       "320                         175                             1   \n",
       "321                         175                             1   \n",
       "322                         175                             1   \n",
       "323                         175                             1   \n",
       "324                         175                             1   \n",
       "\n",
       "    applicationn timing BBCH range PHI Minimum appl. interval\\n(days)  \n",
       "0                            40-61  -1                              0  \n",
       "1                            40-61  -1                              0  \n",
       "2                            40-61  -1                              0  \n",
       "3                            30-61  -1                              0  \n",
       "4                            30-61  -1                              0  \n",
       "..                             ...  ..                            ...  \n",
       "320                          30-69  -1                              0  \n",
       "321                          30-69  -1                              0  \n",
       "322                          30-69  -1                              0  \n",
       "323                          30-69  -1                              0  \n",
       "324                          30-69  -1                              0  \n",
       "\n",
       "[325 rows x 8 columns]"
      ]
     },
     "execution_count": 83,
     "metadata": {},
     "output_type": "execute_result"
    }
   ],
   "source": [
    "critical_values"
   ]
  },
  {
   "cell_type": "code",
   "execution_count": 84,
   "id": "3a2c7aee",
   "metadata": {},
   "outputs": [
    {
     "data": {
      "text/plain": [
       "array(['BIX+FLU+PTZ EC 260 (65+65+130 g/L)',\n",
       "       'BIX+FXA+PTZ EC 190 (40+50+100 g/L)',\n",
       "       'BIX+PTZ EC 225 (75+150 g/L)', 'BIX+PTZ EC 260 (60+200 g/L)',\n",
       "       'BIX+PTZ+SPX EC 400 (50+100+250 g/L)',\n",
       "       'FLU+PTZ SE 250 (125+125 g/L)', 'FXA+PTZ EC 150 (50+100 g/L)',\n",
       "       'FXA+PTZ EC 200 (100+100 g/L)',\n",
       "       'PQA+PTZ+SPX EC 400 (40+160+200 g/L)', 'PTZ EC 250 (250 g/L)',\n",
       "       'PTZ+SPX EC 460 (160+300 g/L)',\n",
       "       'PTZ+SPX+TFS EC 280.3 (93.3+107+80 g/L)',\n",
       "       'PTZ+TFS SC 325 (175+150 g/L)', 'Prothioconazole SC 480 (480 g/L)'],\n",
       "      dtype=object)"
      ]
     },
     "execution_count": 84,
     "metadata": {},
     "output_type": "execute_result"
    }
   ],
   "source": [
    "critical_values[(critical_values['Residues region']=='North EU')]['Product\\n(PLT short)'].unique()"
   ]
  },
  {
   "cell_type": "code",
   "execution_count": 66,
   "id": "514cc70c",
   "metadata": {},
   "outputs": [
    {
     "data": {
      "text/plain": [
       "array(['Barley, spring', 'Barley, winter', 'Oat', 'Oat, common',\n",
       "       'Oat, spring', 'Oat, winter', 'Rye', 'Rye, spring', 'Rye, winter',\n",
       "       'Spelt', 'Triticale', 'Triticale, spring', 'Triticale, winter',\n",
       "       'Wheat durum spring', 'Wheat, durum', 'Wheat, durum winter',\n",
       "       'Wheat, spring', 'Wheat, winter', 'Spelt, spring', 'Spelt, winter',\n",
       "       'Grass (seed production)', 'Mustard crops',\n",
       "       'Rape, spring (Canola)', 'Rape, winter', 'Turnip rape',\n",
       "       'Bean, field', 'Beet, red (beetroot)', 'Chicory, roots',\n",
       "       'Corn / Maize', 'Corn, sweet', 'Flax / Linseed', 'Garlic', 'Onion',\n",
       "       'Peas, field', 'Poppy, seed', 'Potato', 'Potatoes (seed)',\n",
       "       'Pumpkin', 'Radish seeds', 'Shallot', 'Soybean',\n",
       "       'Styrian oil pumpkin', 'Sugarbeet', 'Sunflower', 'Swedes',\n",
       "       'Turnip', 'Coniferous trees', 'Grassland', 'Broccoli',\n",
       "       'Brussels sprouts', 'Cabbage, Savoy', 'Cabbage, head',\n",
       "       'Cabbage, oxheart', 'Cabbage, red', 'Cabbage, white', 'Carrot',\n",
       "       'Cauliflower', 'Flower bulbs', 'Green manure crops, Crucifereae',\n",
       "       'Green manure crops, Gramineae', 'Green manure crops, Leguminous',\n",
       "       'Green manure crops, Others', 'Horseradish', 'Lawn, turf', 'Leek',\n",
       "       'Onion, transplanted', 'Parsley-Turnip rooted', 'Parsnip',\n",
       "       'Rutabaga (Swedes)', 'Salsify', 'Skirret'], dtype=object)"
      ]
     },
     "execution_count": 66,
     "metadata": {},
     "output_type": "execute_result"
    }
   ],
   "source": [
    "critical_values[(critical_values['Residues region']=='North EU')]['Crop'].unique()"
   ]
  },
  {
   "cell_type": "code",
   "execution_count": 67,
   "id": "93fdc0a2",
   "metadata": {},
   "outputs": [
    {
     "data": {
      "text/html": [
       "<div>\n",
       "<style scoped>\n",
       "    .dataframe tbody tr th:only-of-type {\n",
       "        vertical-align: middle;\n",
       "    }\n",
       "\n",
       "    .dataframe tbody tr th {\n",
       "        vertical-align: top;\n",
       "    }\n",
       "\n",
       "    .dataframe thead th {\n",
       "        text-align: right;\n",
       "    }\n",
       "</style>\n",
       "<table border=\"1\" class=\"dataframe\">\n",
       "  <thead>\n",
       "    <tr style=\"text-align: right;\">\n",
       "      <th></th>\n",
       "      <th>Residues region</th>\n",
       "      <th>Product\\n(PLT short)</th>\n",
       "      <th>Crop</th>\n",
       "      <th>Application rate PTZ (g/ha)</th>\n",
       "      <th>Max # of applns.\\n(per block)</th>\n",
       "      <th>applicationn timing BBCH range</th>\n",
       "      <th>PHI</th>\n",
       "      <th>Minimum appl. interval\\n(days)</th>\n",
       "    </tr>\n",
       "  </thead>\n",
       "  <tbody>\n",
       "    <tr>\n",
       "      <th>18</th>\n",
       "      <td>North EU</td>\n",
       "      <td>BIX+FXA+PTZ EC 190 (40+50+100 g/L)</td>\n",
       "      <td>Barley, spring</td>\n",
       "      <td>150</td>\n",
       "      <td>1</td>\n",
       "      <td>30-61</td>\n",
       "      <td>-1</td>\n",
       "      <td>0</td>\n",
       "    </tr>\n",
       "    <tr>\n",
       "      <th>19</th>\n",
       "      <td>North EU</td>\n",
       "      <td>BIX+FXA+PTZ EC 190 (40+50+100 g/L)</td>\n",
       "      <td>Barley, winter</td>\n",
       "      <td>150</td>\n",
       "      <td>1</td>\n",
       "      <td>30-61</td>\n",
       "      <td>-1</td>\n",
       "      <td>0</td>\n",
       "    </tr>\n",
       "    <tr>\n",
       "      <th>20</th>\n",
       "      <td>North EU</td>\n",
       "      <td>BIX+FXA+PTZ EC 190 (40+50+100 g/L)</td>\n",
       "      <td>Oat, spring</td>\n",
       "      <td>60</td>\n",
       "      <td>1</td>\n",
       "      <td>30-61</td>\n",
       "      <td>-1</td>\n",
       "      <td>0</td>\n",
       "    </tr>\n",
       "    <tr>\n",
       "      <th>21</th>\n",
       "      <td>North EU</td>\n",
       "      <td>BIX+FXA+PTZ EC 190 (40+50+100 g/L)</td>\n",
       "      <td>Oat, winter</td>\n",
       "      <td>60</td>\n",
       "      <td>1</td>\n",
       "      <td>30-61</td>\n",
       "      <td>-1</td>\n",
       "      <td>0</td>\n",
       "    </tr>\n",
       "    <tr>\n",
       "      <th>22</th>\n",
       "      <td>North EU</td>\n",
       "      <td>BIX+FXA+PTZ EC 190 (40+50+100 g/L)</td>\n",
       "      <td>Rye</td>\n",
       "      <td>150</td>\n",
       "      <td>1</td>\n",
       "      <td>30-69</td>\n",
       "      <td>-1</td>\n",
       "      <td>0</td>\n",
       "    </tr>\n",
       "    <tr>\n",
       "      <th>23</th>\n",
       "      <td>North EU</td>\n",
       "      <td>BIX+FXA+PTZ EC 190 (40+50+100 g/L)</td>\n",
       "      <td>Rye, spring</td>\n",
       "      <td>175</td>\n",
       "      <td>1</td>\n",
       "      <td>30-69</td>\n",
       "      <td>-1</td>\n",
       "      <td>0</td>\n",
       "    </tr>\n",
       "    <tr>\n",
       "      <th>24</th>\n",
       "      <td>North EU</td>\n",
       "      <td>BIX+FXA+PTZ EC 190 (40+50+100 g/L)</td>\n",
       "      <td>Rye, winter</td>\n",
       "      <td>175</td>\n",
       "      <td>1</td>\n",
       "      <td>30-69</td>\n",
       "      <td>-1</td>\n",
       "      <td>0</td>\n",
       "    </tr>\n",
       "    <tr>\n",
       "      <th>25</th>\n",
       "      <td>North EU</td>\n",
       "      <td>BIX+FXA+PTZ EC 190 (40+50+100 g/L)</td>\n",
       "      <td>Spelt, spring</td>\n",
       "      <td>175</td>\n",
       "      <td>1</td>\n",
       "      <td>30-69</td>\n",
       "      <td>-1</td>\n",
       "      <td>0</td>\n",
       "    </tr>\n",
       "    <tr>\n",
       "      <th>26</th>\n",
       "      <td>North EU</td>\n",
       "      <td>BIX+FXA+PTZ EC 190 (40+50+100 g/L)</td>\n",
       "      <td>Spelt, winter</td>\n",
       "      <td>175</td>\n",
       "      <td>1</td>\n",
       "      <td>30-69</td>\n",
       "      <td>-1</td>\n",
       "      <td>0</td>\n",
       "    </tr>\n",
       "    <tr>\n",
       "      <th>27</th>\n",
       "      <td>North EU</td>\n",
       "      <td>BIX+FXA+PTZ EC 190 (40+50+100 g/L)</td>\n",
       "      <td>Triticale</td>\n",
       "      <td>150</td>\n",
       "      <td>1</td>\n",
       "      <td>30-69</td>\n",
       "      <td>-1</td>\n",
       "      <td>0</td>\n",
       "    </tr>\n",
       "    <tr>\n",
       "      <th>28</th>\n",
       "      <td>North EU</td>\n",
       "      <td>BIX+FXA+PTZ EC 190 (40+50+100 g/L)</td>\n",
       "      <td>Triticale, spring</td>\n",
       "      <td>60</td>\n",
       "      <td>1</td>\n",
       "      <td>30-69</td>\n",
       "      <td>-1</td>\n",
       "      <td>0</td>\n",
       "    </tr>\n",
       "    <tr>\n",
       "      <th>29</th>\n",
       "      <td>North EU</td>\n",
       "      <td>BIX+FXA+PTZ EC 190 (40+50+100 g/L)</td>\n",
       "      <td>Triticale, winter</td>\n",
       "      <td>175</td>\n",
       "      <td>1</td>\n",
       "      <td>30-69</td>\n",
       "      <td>-1</td>\n",
       "      <td>0</td>\n",
       "    </tr>\n",
       "    <tr>\n",
       "      <th>30</th>\n",
       "      <td>North EU</td>\n",
       "      <td>BIX+FXA+PTZ EC 190 (40+50+100 g/L)</td>\n",
       "      <td>Wheat durum spring</td>\n",
       "      <td>60</td>\n",
       "      <td>1</td>\n",
       "      <td>30-69</td>\n",
       "      <td>-1</td>\n",
       "      <td>0</td>\n",
       "    </tr>\n",
       "    <tr>\n",
       "      <th>31</th>\n",
       "      <td>North EU</td>\n",
       "      <td>BIX+FXA+PTZ EC 190 (40+50+100 g/L)</td>\n",
       "      <td>Wheat, durum winter</td>\n",
       "      <td>60</td>\n",
       "      <td>1</td>\n",
       "      <td>30-69</td>\n",
       "      <td>-1</td>\n",
       "      <td>0</td>\n",
       "    </tr>\n",
       "    <tr>\n",
       "      <th>32</th>\n",
       "      <td>North EU</td>\n",
       "      <td>BIX+FXA+PTZ EC 190 (40+50+100 g/L)</td>\n",
       "      <td>Wheat, spring</td>\n",
       "      <td>175</td>\n",
       "      <td>1</td>\n",
       "      <td>30-69</td>\n",
       "      <td>-1</td>\n",
       "      <td>0</td>\n",
       "    </tr>\n",
       "    <tr>\n",
       "      <th>33</th>\n",
       "      <td>North EU</td>\n",
       "      <td>BIX+FXA+PTZ EC 190 (40+50+100 g/L)</td>\n",
       "      <td>Wheat, winter</td>\n",
       "      <td>175</td>\n",
       "      <td>1</td>\n",
       "      <td>30-69</td>\n",
       "      <td>-1</td>\n",
       "      <td>0</td>\n",
       "    </tr>\n",
       "  </tbody>\n",
       "</table>\n",
       "</div>"
      ],
      "text/plain": [
       "   Residues region                Product\\n(PLT short)                 Crop  \\\n",
       "18        North EU  BIX+FXA+PTZ EC 190 (40+50+100 g/L)       Barley, spring   \n",
       "19        North EU  BIX+FXA+PTZ EC 190 (40+50+100 g/L)       Barley, winter   \n",
       "20        North EU  BIX+FXA+PTZ EC 190 (40+50+100 g/L)          Oat, spring   \n",
       "21        North EU  BIX+FXA+PTZ EC 190 (40+50+100 g/L)          Oat, winter   \n",
       "22        North EU  BIX+FXA+PTZ EC 190 (40+50+100 g/L)                  Rye   \n",
       "23        North EU  BIX+FXA+PTZ EC 190 (40+50+100 g/L)          Rye, spring   \n",
       "24        North EU  BIX+FXA+PTZ EC 190 (40+50+100 g/L)          Rye, winter   \n",
       "25        North EU  BIX+FXA+PTZ EC 190 (40+50+100 g/L)        Spelt, spring   \n",
       "26        North EU  BIX+FXA+PTZ EC 190 (40+50+100 g/L)        Spelt, winter   \n",
       "27        North EU  BIX+FXA+PTZ EC 190 (40+50+100 g/L)            Triticale   \n",
       "28        North EU  BIX+FXA+PTZ EC 190 (40+50+100 g/L)    Triticale, spring   \n",
       "29        North EU  BIX+FXA+PTZ EC 190 (40+50+100 g/L)    Triticale, winter   \n",
       "30        North EU  BIX+FXA+PTZ EC 190 (40+50+100 g/L)   Wheat durum spring   \n",
       "31        North EU  BIX+FXA+PTZ EC 190 (40+50+100 g/L)  Wheat, durum winter   \n",
       "32        North EU  BIX+FXA+PTZ EC 190 (40+50+100 g/L)        Wheat, spring   \n",
       "33        North EU  BIX+FXA+PTZ EC 190 (40+50+100 g/L)        Wheat, winter   \n",
       "\n",
       "   Application rate PTZ (g/ha) Max # of applns.\\n(per block)  \\\n",
       "18                         150                             1   \n",
       "19                         150                             1   \n",
       "20                          60                             1   \n",
       "21                          60                             1   \n",
       "22                         150                             1   \n",
       "23                         175                             1   \n",
       "24                         175                             1   \n",
       "25                         175                             1   \n",
       "26                         175                             1   \n",
       "27                         150                             1   \n",
       "28                          60                             1   \n",
       "29                         175                             1   \n",
       "30                          60                             1   \n",
       "31                          60                             1   \n",
       "32                         175                             1   \n",
       "33                         175                             1   \n",
       "\n",
       "   applicationn timing BBCH range PHI Minimum appl. interval\\n(days)  \n",
       "18                          30-61  -1                              0  \n",
       "19                          30-61  -1                              0  \n",
       "20                          30-61  -1                              0  \n",
       "21                          30-61  -1                              0  \n",
       "22                          30-69  -1                              0  \n",
       "23                          30-69  -1                              0  \n",
       "24                          30-69  -1                              0  \n",
       "25                          30-69  -1                              0  \n",
       "26                          30-69  -1                              0  \n",
       "27                          30-69  -1                              0  \n",
       "28                          30-69  -1                              0  \n",
       "29                          30-69  -1                              0  \n",
       "30                          30-69  -1                              0  \n",
       "31                          30-69  -1                              0  \n",
       "32                          30-69  -1                              0  \n",
       "33                          30-69  -1                              0  "
      ]
     },
     "execution_count": 67,
     "metadata": {},
     "output_type": "execute_result"
    }
   ],
   "source": [
    "critical_values[(critical_values['Residues region']=='North EU')&(critical_values['Product\\n(PLT short)']=='BIX+FXA+PTZ EC 190 (40+50+100 g/L)')]"
   ]
  },
  {
   "cell_type": "code",
   "execution_count": 68,
   "id": "020e18b4",
   "metadata": {},
   "outputs": [
    {
     "data": {
      "text/html": [
       "<div>\n",
       "<style scoped>\n",
       "    .dataframe tbody tr th:only-of-type {\n",
       "        vertical-align: middle;\n",
       "    }\n",
       "\n",
       "    .dataframe tbody tr th {\n",
       "        vertical-align: top;\n",
       "    }\n",
       "\n",
       "    .dataframe thead th {\n",
       "        text-align: right;\n",
       "    }\n",
       "</style>\n",
       "<table border=\"1\" class=\"dataframe\">\n",
       "  <thead>\n",
       "    <tr style=\"text-align: right;\">\n",
       "      <th></th>\n",
       "      <th>Residues region</th>\n",
       "      <th>Product\\n(PLT short)</th>\n",
       "      <th>Crop</th>\n",
       "      <th>Application rate PTZ (g/ha)</th>\n",
       "      <th>Max # of applns.\\n(per block)</th>\n",
       "      <th>applicationn timing BBCH range</th>\n",
       "      <th>PHI</th>\n",
       "      <th>Minimum appl. interval\\n(days)</th>\n",
       "    </tr>\n",
       "  </thead>\n",
       "  <tbody>\n",
       "    <tr>\n",
       "      <th>40</th>\n",
       "      <td>North EU</td>\n",
       "      <td>BIX+PTZ EC 225 (75+150 g/L)</td>\n",
       "      <td>Rape, spring (Canola)</td>\n",
       "      <td>120</td>\n",
       "      <td>1</td>\n",
       "      <td>30-69</td>\n",
       "      <td>-1</td>\n",
       "      <td>0</td>\n",
       "    </tr>\n",
       "    <tr>\n",
       "      <th>41</th>\n",
       "      <td>North EU</td>\n",
       "      <td>BIX+PTZ EC 225 (75+150 g/L)</td>\n",
       "      <td>Rape, winter</td>\n",
       "      <td>120</td>\n",
       "      <td>1</td>\n",
       "      <td>30-69</td>\n",
       "      <td>-1</td>\n",
       "      <td>0</td>\n",
       "    </tr>\n",
       "    <tr>\n",
       "      <th>48</th>\n",
       "      <td>North EU</td>\n",
       "      <td>BIX+PTZ EC 225 (75+150 g/L)</td>\n",
       "      <td>Turnip rape</td>\n",
       "      <td>120</td>\n",
       "      <td>1</td>\n",
       "      <td>30-69</td>\n",
       "      <td>-1</td>\n",
       "      <td>0</td>\n",
       "    </tr>\n",
       "    <tr>\n",
       "      <th>100</th>\n",
       "      <td>North EU</td>\n",
       "      <td>FLU+PTZ SE 250 (125+125 g/L)</td>\n",
       "      <td>Rape, spring (Canola)</td>\n",
       "      <td>125</td>\n",
       "      <td>2</td>\n",
       "      <td>63-69</td>\n",
       "      <td>28</td>\n",
       "      <td>0</td>\n",
       "    </tr>\n",
       "    <tr>\n",
       "      <th>101</th>\n",
       "      <td>North EU</td>\n",
       "      <td>FLU+PTZ SE 250 (125+125 g/L)</td>\n",
       "      <td>Rape, winter</td>\n",
       "      <td>125</td>\n",
       "      <td>2</td>\n",
       "      <td>63-69</td>\n",
       "      <td>-1</td>\n",
       "      <td>0</td>\n",
       "    </tr>\n",
       "    <tr>\n",
       "      <th>156</th>\n",
       "      <td>North EU</td>\n",
       "      <td>PTZ EC 250 (250 g/L)</td>\n",
       "      <td>Rape, spring (Canola)</td>\n",
       "      <td>175</td>\n",
       "      <td>2</td>\n",
       "      <td>65-69</td>\n",
       "      <td>56</td>\n",
       "      <td>0</td>\n",
       "    </tr>\n",
       "    <tr>\n",
       "      <th>157</th>\n",
       "      <td>North EU</td>\n",
       "      <td>PTZ EC 250 (250 g/L)</td>\n",
       "      <td>Rape, winter</td>\n",
       "      <td>175</td>\n",
       "      <td>2</td>\n",
       "      <td>65-69</td>\n",
       "      <td>56</td>\n",
       "      <td>0</td>\n",
       "    </tr>\n",
       "  </tbody>\n",
       "</table>\n",
       "</div>"
      ],
      "text/plain": [
       "    Residues region          Product\\n(PLT short)                   Crop  \\\n",
       "40         North EU   BIX+PTZ EC 225 (75+150 g/L)  Rape, spring (Canola)   \n",
       "41         North EU   BIX+PTZ EC 225 (75+150 g/L)           Rape, winter   \n",
       "48         North EU   BIX+PTZ EC 225 (75+150 g/L)            Turnip rape   \n",
       "100        North EU  FLU+PTZ SE 250 (125+125 g/L)  Rape, spring (Canola)   \n",
       "101        North EU  FLU+PTZ SE 250 (125+125 g/L)           Rape, winter   \n",
       "156        North EU          PTZ EC 250 (250 g/L)  Rape, spring (Canola)   \n",
       "157        North EU          PTZ EC 250 (250 g/L)           Rape, winter   \n",
       "\n",
       "    Application rate PTZ (g/ha) Max # of applns.\\n(per block)  \\\n",
       "40                          120                             1   \n",
       "41                          120                             1   \n",
       "48                          120                             1   \n",
       "100                         125                             2   \n",
       "101                         125                             2   \n",
       "156                         175                             2   \n",
       "157                         175                             2   \n",
       "\n",
       "    applicationn timing BBCH range PHI Minimum appl. interval\\n(days)  \n",
       "40                           30-69  -1                              0  \n",
       "41                           30-69  -1                              0  \n",
       "48                           30-69  -1                              0  \n",
       "100                          63-69  28                              0  \n",
       "101                          63-69  -1                              0  \n",
       "156                          65-69  56                              0  \n",
       "157                          65-69  56                              0  "
      ]
     },
     "execution_count": 68,
     "metadata": {},
     "output_type": "execute_result"
    }
   ],
   "source": [
    "critical_values[(critical_values['Residues region']=='North EU')& (critical_values['Crop'].str.contains('rape', case=False))]"
   ]
  },
  {
   "cell_type": "code",
   "execution_count": 69,
   "id": "66360280",
   "metadata": {},
   "outputs": [],
   "source": [
    "critical_values=critical_values[['Product\\n(PLT short)','Residues region','Crop','applicationn timing BBCH range','Max # of applns.\\n(per block)','Application rate PTZ (g/ha)',\n",
    "        'PHI', 'Minimum appl. interval\\n(days)']]"
   ]
  },
  {
   "cell_type": "code",
   "execution_count": 70,
   "id": "a8426f07",
   "metadata": {},
   "outputs": [],
   "source": [
    "critical_values.to_csv('critical_values.csv', index=False) "
   ]
  },
  {
   "cell_type": "code",
   "execution_count": null,
   "id": "1382a3a4",
   "metadata": {},
   "outputs": [],
   "source": []
  },
  {
   "cell_type": "code",
   "execution_count": 85,
   "id": "ac63dd0d",
   "metadata": {},
   "outputs": [
    {
     "data": {
      "text/html": [
       "<div>\n",
       "<style scoped>\n",
       "    .dataframe tbody tr th:only-of-type {\n",
       "        vertical-align: middle;\n",
       "    }\n",
       "\n",
       "    .dataframe tbody tr th {\n",
       "        vertical-align: top;\n",
       "    }\n",
       "\n",
       "    .dataframe thead th {\n",
       "        text-align: right;\n",
       "    }\n",
       "</style>\n",
       "<table border=\"1\" class=\"dataframe\">\n",
       "  <thead>\n",
       "    <tr style=\"text-align: right;\">\n",
       "      <th></th>\n",
       "      <th>Product\\n(PLT short)</th>\n",
       "      <th>Residues region</th>\n",
       "      <th>Crop</th>\n",
       "      <th>applicationn timing BBCH range</th>\n",
       "      <th>Max # of applns.\\n(per block)</th>\n",
       "      <th>Application rate PTZ (g/ha)</th>\n",
       "      <th>PHI</th>\n",
       "      <th>Minimum appl. interval\\n(days)</th>\n",
       "    </tr>\n",
       "  </thead>\n",
       "  <tbody>\n",
       "    <tr>\n",
       "      <th>616</th>\n",
       "      <td>FLU+PTZ SE 250 (125+125 g/L)</td>\n",
       "      <td>North EU</td>\n",
       "      <td>Rape</td>\n",
       "      <td>57-69</td>\n",
       "      <td>1</td>\n",
       "      <td>125</td>\n",
       "      <td>56</td>\n",
       "      <td>0</td>\n",
       "    </tr>\n",
       "    <tr>\n",
       "      <th>617</th>\n",
       "      <td>FLU+PTZ SE 250 (125+125 g/L)</td>\n",
       "      <td>North EU</td>\n",
       "      <td>Rape</td>\n",
       "      <td>57-69</td>\n",
       "      <td>1</td>\n",
       "      <td>125</td>\n",
       "      <td>56</td>\n",
       "      <td>0</td>\n",
       "    </tr>\n",
       "    <tr>\n",
       "      <th>618</th>\n",
       "      <td>FLU+PTZ SE 250 (125+125 g/L)</td>\n",
       "      <td>North EU</td>\n",
       "      <td>Rape</td>\n",
       "      <td>55-69</td>\n",
       "      <td>1</td>\n",
       "      <td>125</td>\n",
       "      <td>56</td>\n",
       "      <td>0</td>\n",
       "    </tr>\n",
       "    <tr>\n",
       "      <th>619</th>\n",
       "      <td>FLU+PTZ SE 250 (125+125 g/L)</td>\n",
       "      <td>North EU</td>\n",
       "      <td>Rape</td>\n",
       "      <td>53-73</td>\n",
       "      <td>2</td>\n",
       "      <td>125</td>\n",
       "      <td>28</td>\n",
       "      <td>14</td>\n",
       "    </tr>\n",
       "    <tr>\n",
       "      <th>620</th>\n",
       "      <td>FLU+PTZ SE 250 (125+125 g/L)</td>\n",
       "      <td>North EU</td>\n",
       "      <td>Rape</td>\n",
       "      <td>14-19</td>\n",
       "      <td>1</td>\n",
       "      <td>125</td>\n",
       "      <td>28</td>\n",
       "      <td>0</td>\n",
       "    </tr>\n",
       "    <tr>\n",
       "      <th>...</th>\n",
       "      <td>...</td>\n",
       "      <td>...</td>\n",
       "      <td>...</td>\n",
       "      <td>...</td>\n",
       "      <td>...</td>\n",
       "      <td>...</td>\n",
       "      <td>...</td>\n",
       "      <td>...</td>\n",
       "    </tr>\n",
       "    <tr>\n",
       "      <th>2091</th>\n",
       "      <td>BIX+PTZ EC 225 (75+150 g/L)</td>\n",
       "      <td>North EU</td>\n",
       "      <td>Rape</td>\n",
       "      <td>30-69</td>\n",
       "      <td>1</td>\n",
       "      <td>120</td>\n",
       "      <td>-1</td>\n",
       "      <td>0</td>\n",
       "    </tr>\n",
       "    <tr>\n",
       "      <th>2094</th>\n",
       "      <td>BIX+PTZ EC 225 (75+150 g/L)</td>\n",
       "      <td>North EU</td>\n",
       "      <td>Rape</td>\n",
       "      <td>30-69</td>\n",
       "      <td>1</td>\n",
       "      <td>120</td>\n",
       "      <td>-1</td>\n",
       "      <td>0</td>\n",
       "    </tr>\n",
       "    <tr>\n",
       "      <th>2095</th>\n",
       "      <td>BIX+PTZ EC 225 (75+150 g/L)</td>\n",
       "      <td>North EU</td>\n",
       "      <td>Rape</td>\n",
       "      <td>30-69</td>\n",
       "      <td>1</td>\n",
       "      <td>120</td>\n",
       "      <td>-1</td>\n",
       "      <td>0</td>\n",
       "    </tr>\n",
       "    <tr>\n",
       "      <th>2098</th>\n",
       "      <td>BIX+PTZ EC 225 (75+150 g/L)</td>\n",
       "      <td>North EU</td>\n",
       "      <td>Rape</td>\n",
       "      <td>30-69</td>\n",
       "      <td>1</td>\n",
       "      <td>120</td>\n",
       "      <td>-1</td>\n",
       "      <td>0</td>\n",
       "    </tr>\n",
       "    <tr>\n",
       "      <th>2099</th>\n",
       "      <td>BIX+PTZ EC 225 (75+150 g/L)</td>\n",
       "      <td>North EU</td>\n",
       "      <td>Rape</td>\n",
       "      <td>30-69</td>\n",
       "      <td>1</td>\n",
       "      <td>120</td>\n",
       "      <td>-1</td>\n",
       "      <td>0</td>\n",
       "    </tr>\n",
       "  </tbody>\n",
       "</table>\n",
       "<p>99 rows × 8 columns</p>\n",
       "</div>"
      ],
      "text/plain": [
       "              Product\\n(PLT short) Residues region  Crop  \\\n",
       "616   FLU+PTZ SE 250 (125+125 g/L)        North EU  Rape   \n",
       "617   FLU+PTZ SE 250 (125+125 g/L)        North EU  Rape   \n",
       "618   FLU+PTZ SE 250 (125+125 g/L)        North EU  Rape   \n",
       "619   FLU+PTZ SE 250 (125+125 g/L)        North EU  Rape   \n",
       "620   FLU+PTZ SE 250 (125+125 g/L)        North EU  Rape   \n",
       "...                            ...             ...   ...   \n",
       "2091   BIX+PTZ EC 225 (75+150 g/L)        North EU  Rape   \n",
       "2094   BIX+PTZ EC 225 (75+150 g/L)        North EU  Rape   \n",
       "2095   BIX+PTZ EC 225 (75+150 g/L)        North EU  Rape   \n",
       "2098   BIX+PTZ EC 225 (75+150 g/L)        North EU  Rape   \n",
       "2099   BIX+PTZ EC 225 (75+150 g/L)        North EU  Rape   \n",
       "\n",
       "     applicationn timing BBCH range Max # of applns.\\n(per block)  \\\n",
       "616                           57-69                             1   \n",
       "617                           57-69                             1   \n",
       "618                           55-69                             1   \n",
       "619                           53-73                             2   \n",
       "620                           14-19                             1   \n",
       "...                             ...                           ...   \n",
       "2091                          30-69                             1   \n",
       "2094                          30-69                             1   \n",
       "2095                          30-69                             1   \n",
       "2098                          30-69                             1   \n",
       "2099                          30-69                             1   \n",
       "\n",
       "     Application rate PTZ (g/ha) PHI Minimum appl. interval\\n(days)  \n",
       "616                          125  56                              0  \n",
       "617                          125  56                              0  \n",
       "618                          125  56                              0  \n",
       "619                          125  28                             14  \n",
       "620                          125  28                              0  \n",
       "...                          ...  ..                            ...  \n",
       "2091                         120  -1                              0  \n",
       "2094                         120  -1                              0  \n",
       "2095                         120  -1                              0  \n",
       "2098                         120  -1                              0  \n",
       "2099                         120  -1                              0  \n",
       "\n",
       "[99 rows x 8 columns]"
      ]
     },
     "execution_count": 85,
     "metadata": {},
     "output_type": "execute_result"
    }
   ],
   "source": [
    "cgap_df[(cgap_df['Residues region']=='North EU')& (cgap_df['Crop'].str.contains('Rape'))]"
   ]
  },
  {
   "cell_type": "markdown",
   "id": "21d8d4f4",
   "metadata": {},
   "source": [
    "## Crop grooping\n",
    "\n",
    "As for crops, for cereals, we only look at wheat & barley (and not rye, triticale, spelt, oat), but on the other hand all barley together (eg spring & winter) and all wheat together (eg durum, spring, winter). The same is true for grater, for example."
   ]
  },
  {
   "cell_type": "code",
   "execution_count": 72,
   "id": "ae127aec",
   "metadata": {},
   "outputs": [
    {
     "data": {
      "text/plain": [
       "array(['Barley, spring', 'Barley, winter', 'Oat, spring', 'Oat, common',\n",
       "       'Rye, spring', 'Rye', 'Rye, winter', 'Spelt', 'Triticale, spring',\n",
       "       'Triticale', 'Triticale, winter', 'Wheat, durum', 'Wheat, spring',\n",
       "       'Wheat, winter', 'Oat', 'Wheat durum spring', 'Spelt, spring',\n",
       "       'Grass (seed production)', 'Oat, winter', 'Mustard crops',\n",
       "       'Rape, spring (Canola)', 'Rape, winter', 'Turnip rape',\n",
       "       'Wheat, durum winter', 'Beet, red (beetroot)', 'Chicory, roots',\n",
       "       'Corn / Maize', 'Corn, sweet', 'Flax / Linseed', 'Garlic', 'Onion',\n",
       "       'Poppy, seed', 'Potato', 'Potatoes (seed)', 'Pumpkin',\n",
       "       'Radish seeds', 'Shallot', 'Soybean', 'Styrian oil pumpkin',\n",
       "       'Sugarbeet', 'Sunflower', 'Swedes', 'Turnip', 'Bean, field',\n",
       "       'Peas, field', 'Spelt, winter', 'Seed production crops',\n",
       "       'Coniferous trees', 'Broccoli', 'Brussels sprouts',\n",
       "       'Cabbage, oxheart', 'Cabbage, red', 'Cabbage, Savoy',\n",
       "       'Cabbage, white', 'Cabbage, head', 'Carrot', 'Cauliflower',\n",
       "       'Flower bulbs', 'Green manure crops, Crucifereae',\n",
       "       'Green manure crops, Gramineae', 'Green manure crops, Leguminous',\n",
       "       'Green manure crops, Others', 'Horseradish', 'Lawn, turf', 'Leek',\n",
       "       'Onion, transplanted', 'Parsley-Turnip rooted', 'Parsnip',\n",
       "       'Rutabaga (Swedes)', 'Salsify', 'Skirret', 'Grassland', nan,\n",
       "       'STOP'], dtype=object)"
      ]
     },
     "execution_count": 72,
     "metadata": {},
     "output_type": "execute_result"
    }
   ],
   "source": [
    "cgap_df['Crop'].unique()"
   ]
  },
  {
   "cell_type": "code",
   "execution_count": 101,
   "id": "2307967f",
   "metadata": {},
   "outputs": [],
   "source": [
    "def simplify_crops(crop):\n",
    "    if isinstance(crop, str):\n",
    "        crop_list = ['Barley', 'Wheat', 'Oat', 'Rape','Rye','Triticale','Cabbage']\n",
    "        for item in crop_list:\n",
    "            if item in crop:\n",
    "                return item\n",
    "    return crop\n",
    "\n",
    "cgap_df['Crop'] = cgap_df['Crop'].apply(simplify_crops)"
   ]
  },
  {
   "cell_type": "code",
   "execution_count": 102,
   "id": "ddd924fa",
   "metadata": {},
   "outputs": [],
   "source": [
    "# Group by columns 'a', 'b', and 'c', and find the critical values in columns 'd' and 'e'\n",
    "critical_values_symp = cgap_df.groupby(['Residues region','Product\\n(PLT short)','Crop']).agg({'Application rate PTZ (g/ha)': 'max',\n",
    "                                                                                     'Max # of applns.\\n(per block)': 'max',\n",
    "                                                                                    'applicationn timing BBCH range':'max',\n",
    "                                                                                    'PHI':'min',\n",
    "                                                                                    'Minimum appl. interval\\n(days)':'min'}).reset_index()"
   ]
  },
  {
   "cell_type": "code",
   "execution_count": 106,
   "id": "56f85161",
   "metadata": {},
   "outputs": [
    {
     "data": {
      "text/plain": [
       "Index(['Residues region', 'Product\\n(PLT short)', 'Crop',\n",
       "       'Application rate PTZ (g/ha)', 'Max # of applns.\\n(per block)',\n",
       "       'applicationn timing BBCH range', 'PHI',\n",
       "       'Minimum appl. interval\\n(days)'],\n",
       "      dtype='object')"
      ]
     },
     "execution_count": 106,
     "metadata": {},
     "output_type": "execute_result"
    }
   ],
   "source": [
    "critical_values_symp.columns"
   ]
  },
  {
   "cell_type": "code",
   "execution_count": 111,
   "id": "b235fa27",
   "metadata": {},
   "outputs": [
    {
     "data": {
      "application/vnd.plotly.v1+json": {
       "config": {
        "plotlyServerURL": "https://plot.ly"
       },
       "data": [
        {
         "alignmentgroup": "True",
         "hovertemplate": "Product\n(PLT short)=BIX+FLU+PTZ EC 260 (65+65+130 g/L)<br>Residues region=%{x}<br>PHI=%{y}<extra></extra>",
         "legendgroup": "BIX+FLU+PTZ EC 260 (65+65+130 g/L)",
         "marker": {
          "color": "#636efa"
         },
         "name": "BIX+FLU+PTZ EC 260 (65+65+130 g/L)",
         "notched": false,
         "offsetgroup": "BIX+FLU+PTZ EC 260 (65+65+130 g/L)",
         "orientation": "v",
         "showlegend": true,
         "type": "box",
         "x": [
          "North EU",
          "North EU",
          "North EU",
          "North EU",
          "North EU",
          "North EU",
          "North&South EU",
          "North&South EU",
          "North&South EU",
          "North&South EU",
          "North&South EU",
          "North&South EU",
          "South EU",
          "South EU",
          "South EU",
          "South EU",
          "South EU",
          "South EU"
         ],
         "x0": " ",
         "xaxis": "x",
         "y": [
          -1,
          -1,
          -1,
          -1,
          -1,
          -1,
          -1,
          -1,
          -1,
          -1,
          -1,
          -1,
          -1,
          -1,
          -1,
          -1,
          -1,
          -1
         ],
         "y0": " ",
         "yaxis": "y"
        },
        {
         "alignmentgroup": "True",
         "hovertemplate": "Product\n(PLT short)=BIX+FXA+PTZ EC 190 (40+50+100 g/L)<br>Residues region=%{x}<br>PHI=%{y}<extra></extra>",
         "legendgroup": "BIX+FXA+PTZ EC 190 (40+50+100 g/L)",
         "marker": {
          "color": "#EF553B"
         },
         "name": "BIX+FXA+PTZ EC 190 (40+50+100 g/L)",
         "notched": false,
         "offsetgroup": "BIX+FXA+PTZ EC 190 (40+50+100 g/L)",
         "orientation": "v",
         "showlegend": true,
         "type": "box",
         "x": [
          "North EU",
          "North EU",
          "North EU",
          "North EU",
          "North EU",
          "North EU",
          "North EU",
          "North&South EU",
          "North&South EU",
          "North&South EU",
          "North&South EU",
          "North&South EU",
          "North&South EU",
          "South EU",
          "South EU",
          "South EU",
          "South EU",
          "South EU",
          "South EU"
         ],
         "x0": " ",
         "xaxis": "x",
         "y": [
          -1,
          -1,
          -1,
          -1,
          -1,
          -1,
          -1,
          -1,
          -1,
          -1,
          -1,
          -1,
          -1,
          -1,
          -1,
          -1,
          -1,
          -1,
          -1
         ],
         "y0": " ",
         "yaxis": "y"
        },
        {
         "alignmentgroup": "True",
         "hovertemplate": "Product\n(PLT short)=BIX+PTZ EC 225 (75+150 g/L)<br>Residues region=%{x}<br>PHI=%{y}<extra></extra>",
         "legendgroup": "BIX+PTZ EC 225 (75+150 g/L)",
         "marker": {
          "color": "#00cc96"
         },
         "name": "BIX+PTZ EC 225 (75+150 g/L)",
         "notched": false,
         "offsetgroup": "BIX+PTZ EC 225 (75+150 g/L)",
         "orientation": "v",
         "showlegend": true,
         "type": "box",
         "x": [
          "North EU",
          "North EU",
          "North EU",
          "North EU",
          "North EU",
          "North EU",
          "North EU",
          "North EU",
          "North EU",
          "North EU",
          "North EU",
          "North&South EU",
          "North&South EU",
          "North&South EU",
          "North&South EU",
          "North&South EU",
          "North&South EU",
          "North&South EU",
          "North&South EU",
          "South EU",
          "South EU",
          "South EU",
          "South EU",
          "South EU"
         ],
         "x0": " ",
         "xaxis": "x",
         "y": [
          -1,
          -1,
          -1,
          -1,
          -1,
          -1,
          -1,
          -1,
          -1,
          -1,
          -1,
          -1,
          30,
          -1,
          30,
          -1,
          -1,
          30,
          -1,
          -1,
          -1,
          -1,
          -1,
          -1
         ],
         "y0": " ",
         "yaxis": "y"
        },
        {
         "alignmentgroup": "True",
         "hovertemplate": "Product\n(PLT short)=BIX+PTZ EC 260 (60+200 g/L)<br>Residues region=%{x}<br>PHI=%{y}<extra></extra>",
         "legendgroup": "BIX+PTZ EC 260 (60+200 g/L)",
         "marker": {
          "color": "#ab63fa"
         },
         "name": "BIX+PTZ EC 260 (60+200 g/L)",
         "notched": false,
         "offsetgroup": "BIX+PTZ EC 260 (60+200 g/L)",
         "orientation": "v",
         "showlegend": true,
         "type": "box",
         "x": [
          "North EU",
          "North EU",
          "North EU",
          "North EU",
          "North EU",
          "North EU",
          "South EU",
          "South EU",
          "South EU",
          "South EU",
          "South EU"
         ],
         "x0": " ",
         "xaxis": "x",
         "y": [
          -1,
          -1,
          -1,
          -1,
          -1,
          -1,
          -1,
          -1,
          -1,
          -1,
          -1
         ],
         "y0": " ",
         "yaxis": "y"
        },
        {
         "alignmentgroup": "True",
         "hovertemplate": "Product\n(PLT short)=BIX+PTZ+SPX EC 400 (50+100+250 g/L)<br>Residues region=%{x}<br>PHI=%{y}<extra></extra>",
         "legendgroup": "BIX+PTZ+SPX EC 400 (50+100+250 g/L)",
         "marker": {
          "color": "#FFA15A"
         },
         "name": "BIX+PTZ+SPX EC 400 (50+100+250 g/L)",
         "notched": false,
         "offsetgroup": "BIX+PTZ+SPX EC 400 (50+100+250 g/L)",
         "orientation": "v",
         "showlegend": true,
         "type": "box",
         "x": [
          "North EU",
          "North EU",
          "North EU",
          "North EU",
          "North EU",
          "North EU",
          "North EU"
         ],
         "x0": " ",
         "xaxis": "x",
         "y": [
          -1,
          -1,
          -1,
          -1,
          -1,
          -1,
          -1
         ],
         "y0": " ",
         "yaxis": "y"
        },
        {
         "alignmentgroup": "True",
         "hovertemplate": "Product\n(PLT short)=FLU+PTZ SE 250 (125+125 g/L)<br>Residues region=%{x}<br>PHI=%{y}<extra></extra>",
         "legendgroup": "FLU+PTZ SE 250 (125+125 g/L)",
         "marker": {
          "color": "#19d3f3"
         },
         "name": "FLU+PTZ SE 250 (125+125 g/L)",
         "notched": false,
         "offsetgroup": "FLU+PTZ SE 250 (125+125 g/L)",
         "orientation": "v",
         "showlegend": true,
         "type": "box",
         "x": [
          "North EU",
          "North EU",
          "North EU",
          "North EU",
          "North EU",
          "North EU",
          "North EU",
          "North EU",
          "North EU",
          "North EU",
          "North EU",
          "North EU",
          "North EU",
          "North EU",
          "North EU",
          "North EU",
          "North EU",
          "North EU",
          "North EU",
          "North EU",
          "North EU",
          "North EU",
          "North EU",
          "North EU",
          "North EU",
          "North EU",
          "North EU",
          "North EU",
          "North EU",
          "North&South EU",
          "North&South EU",
          "North&South EU",
          "North&South EU",
          "North&South EU",
          "North&South EU",
          "South EU",
          "South EU",
          "South EU",
          "South EU",
          "South EU",
          "South EU",
          "South EU",
          "South EU",
          "South EU"
         ],
         "x0": " ",
         "xaxis": "x",
         "y": [
          35,
          35,
          -1,
          -1,
          -1,
          14,
          28,
          7,
          -1,
          56,
          35,
          7,
          35,
          56,
          21,
          21,
          56,
          28,
          -1,
          35,
          7,
          -1,
          56,
          -1,
          28,
          21,
          35,
          21,
          35,
          21,
          -1,
          -1,
          21,
          56,
          -1,
          -1,
          7,
          7,
          21,
          56,
          7,
          28,
          -1,
          28
         ],
         "y0": " ",
         "yaxis": "y"
        },
        {
         "alignmentgroup": "True",
         "hovertemplate": "Product\n(PLT short)=FXA+PTZ EC 150 (50+100 g/L)<br>Residues region=%{x}<br>PHI=%{y}<extra></extra>",
         "legendgroup": "FXA+PTZ EC 150 (50+100 g/L)",
         "marker": {
          "color": "#FF6692"
         },
         "name": "FXA+PTZ EC 150 (50+100 g/L)",
         "notched": false,
         "offsetgroup": "FXA+PTZ EC 150 (50+100 g/L)",
         "orientation": "v",
         "showlegend": true,
         "type": "box",
         "x": [
          "North EU",
          "North EU",
          "North EU",
          "North EU",
          "North EU",
          "North EU",
          "North EU",
          "North&South EU",
          "North&South EU",
          "North&South EU",
          "North&South EU",
          "North&South EU",
          "North&South EU",
          "North&South EU"
         ],
         "x0": " ",
         "xaxis": "x",
         "y": [
          -1,
          -1,
          -1,
          -1,
          -1,
          -1,
          -1,
          -1,
          -1,
          -1,
          1,
          -1,
          -1,
          -1
         ],
         "y0": " ",
         "yaxis": "y"
        },
        {
         "alignmentgroup": "True",
         "hovertemplate": "Product\n(PLT short)=FXA+PTZ EC 200 (100+100 g/L)<br>Residues region=%{x}<br>PHI=%{y}<extra></extra>",
         "legendgroup": "FXA+PTZ EC 200 (100+100 g/L)",
         "marker": {
          "color": "#B6E880"
         },
         "name": "FXA+PTZ EC 200 (100+100 g/L)",
         "notched": false,
         "offsetgroup": "FXA+PTZ EC 200 (100+100 g/L)",
         "orientation": "v",
         "showlegend": true,
         "type": "box",
         "x": [
          "North EU",
          "North EU",
          "North EU",
          "North EU",
          "North EU",
          "North EU",
          "North EU",
          "North EU",
          "North EU",
          "South EU"
         ],
         "x0": " ",
         "xaxis": "x",
         "y": [
          -1,
          -1,
          -1,
          -1,
          -1,
          -1,
          -1,
          -1,
          -1,
          21
         ],
         "y0": " ",
         "yaxis": "y"
        },
        {
         "alignmentgroup": "True",
         "hovertemplate": "Product\n(PLT short)=PQA+PTZ+SPX EC 400 (40+160+200 g/L)<br>Residues region=%{x}<br>PHI=%{y}<extra></extra>",
         "legendgroup": "PQA+PTZ+SPX EC 400 (40+160+200 g/L)",
         "marker": {
          "color": "#FF97FF"
         },
         "name": "PQA+PTZ+SPX EC 400 (40+160+200 g/L)",
         "notched": false,
         "offsetgroup": "PQA+PTZ+SPX EC 400 (40+160+200 g/L)",
         "orientation": "v",
         "showlegend": true,
         "type": "box",
         "x": [
          "North EU",
          "North EU",
          "North EU",
          "North EU",
          "North EU",
          "North EU",
          "North EU"
         ],
         "x0": " ",
         "xaxis": "x",
         "y": [
          -1,
          -1,
          -1,
          -1,
          -1,
          -1,
          -1
         ],
         "y0": " ",
         "yaxis": "y"
        },
        {
         "alignmentgroup": "True",
         "hovertemplate": "Product\n(PLT short)=PTZ EC 250 (250 g/L)<br>Residues region=%{x}<br>PHI=%{y}<extra></extra>",
         "legendgroup": "PTZ EC 250 (250 g/L)",
         "marker": {
          "color": "#FECB52"
         },
         "name": "PTZ EC 250 (250 g/L)",
         "notched": false,
         "offsetgroup": "PTZ EC 250 (250 g/L)",
         "orientation": "v",
         "showlegend": true,
         "type": "box",
         "x": [
          "North EU",
          "North EU",
          "North EU",
          "North EU",
          "North EU",
          "North EU",
          "North EU",
          "North EU",
          "North&South EU",
          "North&South EU",
          "North&South EU",
          "North&South EU",
          "North&South EU",
          "North&South EU",
          "North&South EU",
          "South EU",
          "South EU",
          "South EU",
          "South EU",
          "South EU",
          "South EU",
          "South EU"
         ],
         "x0": " ",
         "xaxis": "x",
         "y": [
          -1,
          -1,
          56,
          -1,
          -1,
          -1,
          -1,
          -1,
          -1,
          56,
          -1,
          56,
          -1,
          -1,
          -1,
          -1,
          56,
          -1,
          56,
          -1,
          -1,
          -1
         ],
         "y0": " ",
         "yaxis": "y"
        },
        {
         "alignmentgroup": "True",
         "hovertemplate": "Product\n(PLT short)=PTZ+SPX EC 460 (160+300 g/L)<br>Residues region=%{x}<br>PHI=%{y}<extra></extra>",
         "legendgroup": "PTZ+SPX EC 460 (160+300 g/L)",
         "marker": {
          "color": "#636efa"
         },
         "name": "PTZ+SPX EC 460 (160+300 g/L)",
         "notched": false,
         "offsetgroup": "PTZ+SPX EC 460 (160+300 g/L)",
         "orientation": "v",
         "showlegend": true,
         "type": "box",
         "x": [
          "North EU",
          "North EU",
          "North EU",
          "North EU",
          "North EU",
          "North EU",
          "North EU",
          "North EU",
          "North&South EU",
          "North&South EU",
          "North&South EU",
          "North&South EU",
          "North&South EU",
          "North&South EU",
          "South EU",
          "South EU",
          "South EU",
          "South EU",
          "South EU",
          "South EU",
          "South EU",
          "South EU"
         ],
         "x0": " ",
         "xaxis": "x",
         "y": [
          -1,
          -1,
          -1,
          -1,
          -1,
          -1,
          -1,
          -1,
          -1,
          -1,
          -1,
          -1,
          -1,
          -1,
          -1,
          -1,
          -1,
          -1,
          -1,
          -1,
          -1,
          -1
         ],
         "y0": " ",
         "yaxis": "y"
        },
        {
         "alignmentgroup": "True",
         "hovertemplate": "Product\n(PLT short)=PTZ+SPX+TFS EC 280.3 (93.3+107+80 g/L)<br>Residues region=%{x}<br>PHI=%{y}<extra></extra>",
         "legendgroup": "PTZ+SPX+TFS EC 280.3 (93.3+107+80 g/L)",
         "marker": {
          "color": "#EF553B"
         },
         "name": "PTZ+SPX+TFS EC 280.3 (93.3+107+80 g/L)",
         "notched": false,
         "offsetgroup": "PTZ+SPX+TFS EC 280.3 (93.3+107+80 g/L)",
         "orientation": "v",
         "showlegend": true,
         "type": "box",
         "x": [
          "North EU",
          "North EU",
          "North EU",
          "North EU",
          "North EU",
          "North EU",
          "North EU",
          "North&South EU",
          "North&South EU",
          "North&South EU",
          "North&South EU",
          "North&South EU",
          "South EU",
          "South EU",
          "South EU",
          "South EU",
          "South EU",
          "South EU",
          "South EU"
         ],
         "x0": " ",
         "xaxis": "x",
         "y": [
          -1,
          -1,
          -1,
          -1,
          -1,
          -1,
          -1,
          -1,
          -1,
          -1,
          -1,
          -1,
          -1,
          -1,
          -1,
          -1,
          -1,
          -1,
          -1
         ],
         "y0": " ",
         "yaxis": "y"
        },
        {
         "alignmentgroup": "True",
         "hovertemplate": "Product\n(PLT short)=PTZ+TFS SC 325 (175+150 g/L)<br>Residues region=%{x}<br>PHI=%{y}<extra></extra>",
         "legendgroup": "PTZ+TFS SC 325 (175+150 g/L)",
         "marker": {
          "color": "#00cc96"
         },
         "name": "PTZ+TFS SC 325 (175+150 g/L)",
         "notched": false,
         "offsetgroup": "PTZ+TFS SC 325 (175+150 g/L)",
         "orientation": "v",
         "showlegend": true,
         "type": "box",
         "x": [
          "North EU",
          "North EU",
          "North EU",
          "North EU",
          "North EU",
          "North EU"
         ],
         "x0": " ",
         "xaxis": "x",
         "y": [
          -1,
          -1,
          -1,
          -1,
          -1,
          -1
         ],
         "y0": " ",
         "yaxis": "y"
        },
        {
         "alignmentgroup": "True",
         "hovertemplate": "Product\n(PLT short)=Prothioconazole SC 480 (480 g/L)<br>Residues region=%{x}<br>PHI=%{y}<extra></extra>",
         "legendgroup": "Prothioconazole SC 480 (480 g/L)",
         "marker": {
          "color": "#ab63fa"
         },
         "name": "Prothioconazole SC 480 (480 g/L)",
         "notched": false,
         "offsetgroup": "Prothioconazole SC 480 (480 g/L)",
         "orientation": "v",
         "showlegend": true,
         "type": "box",
         "x": [
          "North EU",
          "North EU",
          "North EU",
          "North EU",
          "North EU",
          "North EU",
          "North EU",
          "North EU",
          "North EU",
          "North EU",
          "North EU",
          "North EU",
          "North EU",
          "North EU",
          "North EU",
          "North EU",
          "North EU",
          "North EU",
          "North EU",
          "North EU",
          "North EU",
          "North EU",
          "North EU",
          "North EU",
          "North EU",
          "North EU",
          "North EU",
          "North EU",
          "North EU",
          "North EU",
          "North EU"
         ],
         "x0": " ",
         "xaxis": "x",
         "y": [
          21,
          21,
          21,
          21,
          21,
          21,
          21,
          21,
          21,
          21,
          -1,
          -1,
          -1,
          -1,
          -1,
          -1,
          -1,
          -1,
          21,
          -1,
          21,
          -1,
          -1,
          21,
          21,
          21,
          21,
          -1,
          21,
          21,
          21
         ],
         "y0": " ",
         "yaxis": "y"
        },
        {
         "alignmentgroup": "True",
         "hovertemplate": "Product\n(PLT short)=FXA+PTZ EC 150 (50+100 g/L) neo<br>Residues region=%{x}<br>PHI=%{y}<extra></extra>",
         "legendgroup": "FXA+PTZ EC 150 (50+100 g/L) neo",
         "marker": {
          "color": "#FFA15A"
         },
         "name": "FXA+PTZ EC 150 (50+100 g/L) neo",
         "notched": false,
         "offsetgroup": "FXA+PTZ EC 150 (50+100 g/L) neo",
         "orientation": "v",
         "showlegend": true,
         "type": "box",
         "x": [
          "North&South EU",
          "North&South EU",
          "North&South EU",
          "North&South EU",
          "North&South EU"
         ],
         "x0": " ",
         "xaxis": "x",
         "y": [
          -1,
          -1,
          -1,
          -1,
          -1
         ],
         "y0": " ",
         "yaxis": "y"
        },
        {
         "alignmentgroup": "True",
         "hovertemplate": "Product\n(PLT short)=PTZ+TFS SC 263 (175+88 g/L)<br>Residues region=%{x}<br>PHI=%{y}<extra></extra>",
         "legendgroup": "PTZ+TFS SC 263 (175+88 g/L)",
         "marker": {
          "color": "#19d3f3"
         },
         "name": "PTZ+TFS SC 263 (175+88 g/L)",
         "notched": false,
         "offsetgroup": "PTZ+TFS SC 263 (175+88 g/L)",
         "orientation": "v",
         "showlegend": true,
         "type": "box",
         "x": [
          "North&South EU",
          "North&South EU",
          "North&South EU",
          "North&South EU",
          "South EU",
          "South EU",
          "South EU",
          "South EU"
         ],
         "x0": " ",
         "xaxis": "x",
         "y": [
          -1,
          -1,
          -1,
          -1,
          -1,
          -1,
          -1,
          -1
         ],
         "y0": " ",
         "yaxis": "y"
        },
        {
         "alignmentgroup": "True",
         "hovertemplate": "Product\n(PLT short)=STOP<br>Residues region=%{x}<br>PHI=%{y}<extra></extra>",
         "legendgroup": "STOP",
         "marker": {
          "color": "#FF6692"
         },
         "name": "STOP",
         "notched": false,
         "offsetgroup": "STOP",
         "orientation": "v",
         "showlegend": true,
         "type": "box",
         "x": [
          "STOP"
         ],
         "x0": " ",
         "xaxis": "x",
         "y": [
          "STOP"
         ],
         "y0": " ",
         "yaxis": "y"
        }
       ],
       "layout": {
        "boxmode": "group",
        "legend": {
         "title": {
          "text": "Product\n(PLT short)"
         },
         "tracegroupgap": 0
        },
        "margin": {
         "t": 60
        },
        "template": {
         "data": {
          "bar": [
           {
            "error_x": {
             "color": "#2a3f5f"
            },
            "error_y": {
             "color": "#2a3f5f"
            },
            "marker": {
             "line": {
              "color": "#E5ECF6",
              "width": 0.5
             },
             "pattern": {
              "fillmode": "overlay",
              "size": 10,
              "solidity": 0.2
             }
            },
            "type": "bar"
           }
          ],
          "barpolar": [
           {
            "marker": {
             "line": {
              "color": "#E5ECF6",
              "width": 0.5
             },
             "pattern": {
              "fillmode": "overlay",
              "size": 10,
              "solidity": 0.2
             }
            },
            "type": "barpolar"
           }
          ],
          "carpet": [
           {
            "aaxis": {
             "endlinecolor": "#2a3f5f",
             "gridcolor": "white",
             "linecolor": "white",
             "minorgridcolor": "white",
             "startlinecolor": "#2a3f5f"
            },
            "baxis": {
             "endlinecolor": "#2a3f5f",
             "gridcolor": "white",
             "linecolor": "white",
             "minorgridcolor": "white",
             "startlinecolor": "#2a3f5f"
            },
            "type": "carpet"
           }
          ],
          "choropleth": [
           {
            "colorbar": {
             "outlinewidth": 0,
             "ticks": ""
            },
            "type": "choropleth"
           }
          ],
          "contour": [
           {
            "colorbar": {
             "outlinewidth": 0,
             "ticks": ""
            },
            "colorscale": [
             [
              0,
              "#0d0887"
             ],
             [
              0.1111111111111111,
              "#46039f"
             ],
             [
              0.2222222222222222,
              "#7201a8"
             ],
             [
              0.3333333333333333,
              "#9c179e"
             ],
             [
              0.4444444444444444,
              "#bd3786"
             ],
             [
              0.5555555555555556,
              "#d8576b"
             ],
             [
              0.6666666666666666,
              "#ed7953"
             ],
             [
              0.7777777777777778,
              "#fb9f3a"
             ],
             [
              0.8888888888888888,
              "#fdca26"
             ],
             [
              1,
              "#f0f921"
             ]
            ],
            "type": "contour"
           }
          ],
          "contourcarpet": [
           {
            "colorbar": {
             "outlinewidth": 0,
             "ticks": ""
            },
            "type": "contourcarpet"
           }
          ],
          "heatmap": [
           {
            "colorbar": {
             "outlinewidth": 0,
             "ticks": ""
            },
            "colorscale": [
             [
              0,
              "#0d0887"
             ],
             [
              0.1111111111111111,
              "#46039f"
             ],
             [
              0.2222222222222222,
              "#7201a8"
             ],
             [
              0.3333333333333333,
              "#9c179e"
             ],
             [
              0.4444444444444444,
              "#bd3786"
             ],
             [
              0.5555555555555556,
              "#d8576b"
             ],
             [
              0.6666666666666666,
              "#ed7953"
             ],
             [
              0.7777777777777778,
              "#fb9f3a"
             ],
             [
              0.8888888888888888,
              "#fdca26"
             ],
             [
              1,
              "#f0f921"
             ]
            ],
            "type": "heatmap"
           }
          ],
          "heatmapgl": [
           {
            "colorbar": {
             "outlinewidth": 0,
             "ticks": ""
            },
            "colorscale": [
             [
              0,
              "#0d0887"
             ],
             [
              0.1111111111111111,
              "#46039f"
             ],
             [
              0.2222222222222222,
              "#7201a8"
             ],
             [
              0.3333333333333333,
              "#9c179e"
             ],
             [
              0.4444444444444444,
              "#bd3786"
             ],
             [
              0.5555555555555556,
              "#d8576b"
             ],
             [
              0.6666666666666666,
              "#ed7953"
             ],
             [
              0.7777777777777778,
              "#fb9f3a"
             ],
             [
              0.8888888888888888,
              "#fdca26"
             ],
             [
              1,
              "#f0f921"
             ]
            ],
            "type": "heatmapgl"
           }
          ],
          "histogram": [
           {
            "marker": {
             "pattern": {
              "fillmode": "overlay",
              "size": 10,
              "solidity": 0.2
             }
            },
            "type": "histogram"
           }
          ],
          "histogram2d": [
           {
            "colorbar": {
             "outlinewidth": 0,
             "ticks": ""
            },
            "colorscale": [
             [
              0,
              "#0d0887"
             ],
             [
              0.1111111111111111,
              "#46039f"
             ],
             [
              0.2222222222222222,
              "#7201a8"
             ],
             [
              0.3333333333333333,
              "#9c179e"
             ],
             [
              0.4444444444444444,
              "#bd3786"
             ],
             [
              0.5555555555555556,
              "#d8576b"
             ],
             [
              0.6666666666666666,
              "#ed7953"
             ],
             [
              0.7777777777777778,
              "#fb9f3a"
             ],
             [
              0.8888888888888888,
              "#fdca26"
             ],
             [
              1,
              "#f0f921"
             ]
            ],
            "type": "histogram2d"
           }
          ],
          "histogram2dcontour": [
           {
            "colorbar": {
             "outlinewidth": 0,
             "ticks": ""
            },
            "colorscale": [
             [
              0,
              "#0d0887"
             ],
             [
              0.1111111111111111,
              "#46039f"
             ],
             [
              0.2222222222222222,
              "#7201a8"
             ],
             [
              0.3333333333333333,
              "#9c179e"
             ],
             [
              0.4444444444444444,
              "#bd3786"
             ],
             [
              0.5555555555555556,
              "#d8576b"
             ],
             [
              0.6666666666666666,
              "#ed7953"
             ],
             [
              0.7777777777777778,
              "#fb9f3a"
             ],
             [
              0.8888888888888888,
              "#fdca26"
             ],
             [
              1,
              "#f0f921"
             ]
            ],
            "type": "histogram2dcontour"
           }
          ],
          "mesh3d": [
           {
            "colorbar": {
             "outlinewidth": 0,
             "ticks": ""
            },
            "type": "mesh3d"
           }
          ],
          "parcoords": [
           {
            "line": {
             "colorbar": {
              "outlinewidth": 0,
              "ticks": ""
             }
            },
            "type": "parcoords"
           }
          ],
          "pie": [
           {
            "automargin": true,
            "type": "pie"
           }
          ],
          "scatter": [
           {
            "marker": {
             "colorbar": {
              "outlinewidth": 0,
              "ticks": ""
             }
            },
            "type": "scatter"
           }
          ],
          "scatter3d": [
           {
            "line": {
             "colorbar": {
              "outlinewidth": 0,
              "ticks": ""
             }
            },
            "marker": {
             "colorbar": {
              "outlinewidth": 0,
              "ticks": ""
             }
            },
            "type": "scatter3d"
           }
          ],
          "scattercarpet": [
           {
            "marker": {
             "colorbar": {
              "outlinewidth": 0,
              "ticks": ""
             }
            },
            "type": "scattercarpet"
           }
          ],
          "scattergeo": [
           {
            "marker": {
             "colorbar": {
              "outlinewidth": 0,
              "ticks": ""
             }
            },
            "type": "scattergeo"
           }
          ],
          "scattergl": [
           {
            "marker": {
             "colorbar": {
              "outlinewidth": 0,
              "ticks": ""
             }
            },
            "type": "scattergl"
           }
          ],
          "scattermapbox": [
           {
            "marker": {
             "colorbar": {
              "outlinewidth": 0,
              "ticks": ""
             }
            },
            "type": "scattermapbox"
           }
          ],
          "scatterpolar": [
           {
            "marker": {
             "colorbar": {
              "outlinewidth": 0,
              "ticks": ""
             }
            },
            "type": "scatterpolar"
           }
          ],
          "scatterpolargl": [
           {
            "marker": {
             "colorbar": {
              "outlinewidth": 0,
              "ticks": ""
             }
            },
            "type": "scatterpolargl"
           }
          ],
          "scatterternary": [
           {
            "marker": {
             "colorbar": {
              "outlinewidth": 0,
              "ticks": ""
             }
            },
            "type": "scatterternary"
           }
          ],
          "surface": [
           {
            "colorbar": {
             "outlinewidth": 0,
             "ticks": ""
            },
            "colorscale": [
             [
              0,
              "#0d0887"
             ],
             [
              0.1111111111111111,
              "#46039f"
             ],
             [
              0.2222222222222222,
              "#7201a8"
             ],
             [
              0.3333333333333333,
              "#9c179e"
             ],
             [
              0.4444444444444444,
              "#bd3786"
             ],
             [
              0.5555555555555556,
              "#d8576b"
             ],
             [
              0.6666666666666666,
              "#ed7953"
             ],
             [
              0.7777777777777778,
              "#fb9f3a"
             ],
             [
              0.8888888888888888,
              "#fdca26"
             ],
             [
              1,
              "#f0f921"
             ]
            ],
            "type": "surface"
           }
          ],
          "table": [
           {
            "cells": {
             "fill": {
              "color": "#EBF0F8"
             },
             "line": {
              "color": "white"
             }
            },
            "header": {
             "fill": {
              "color": "#C8D4E3"
             },
             "line": {
              "color": "white"
             }
            },
            "type": "table"
           }
          ]
         },
         "layout": {
          "annotationdefaults": {
           "arrowcolor": "#2a3f5f",
           "arrowhead": 0,
           "arrowwidth": 1
          },
          "autotypenumbers": "strict",
          "coloraxis": {
           "colorbar": {
            "outlinewidth": 0,
            "ticks": ""
           }
          },
          "colorscale": {
           "diverging": [
            [
             0,
             "#8e0152"
            ],
            [
             0.1,
             "#c51b7d"
            ],
            [
             0.2,
             "#de77ae"
            ],
            [
             0.3,
             "#f1b6da"
            ],
            [
             0.4,
             "#fde0ef"
            ],
            [
             0.5,
             "#f7f7f7"
            ],
            [
             0.6,
             "#e6f5d0"
            ],
            [
             0.7,
             "#b8e186"
            ],
            [
             0.8,
             "#7fbc41"
            ],
            [
             0.9,
             "#4d9221"
            ],
            [
             1,
             "#276419"
            ]
           ],
           "sequential": [
            [
             0,
             "#0d0887"
            ],
            [
             0.1111111111111111,
             "#46039f"
            ],
            [
             0.2222222222222222,
             "#7201a8"
            ],
            [
             0.3333333333333333,
             "#9c179e"
            ],
            [
             0.4444444444444444,
             "#bd3786"
            ],
            [
             0.5555555555555556,
             "#d8576b"
            ],
            [
             0.6666666666666666,
             "#ed7953"
            ],
            [
             0.7777777777777778,
             "#fb9f3a"
            ],
            [
             0.8888888888888888,
             "#fdca26"
            ],
            [
             1,
             "#f0f921"
            ]
           ],
           "sequentialminus": [
            [
             0,
             "#0d0887"
            ],
            [
             0.1111111111111111,
             "#46039f"
            ],
            [
             0.2222222222222222,
             "#7201a8"
            ],
            [
             0.3333333333333333,
             "#9c179e"
            ],
            [
             0.4444444444444444,
             "#bd3786"
            ],
            [
             0.5555555555555556,
             "#d8576b"
            ],
            [
             0.6666666666666666,
             "#ed7953"
            ],
            [
             0.7777777777777778,
             "#fb9f3a"
            ],
            [
             0.8888888888888888,
             "#fdca26"
            ],
            [
             1,
             "#f0f921"
            ]
           ]
          },
          "colorway": [
           "#636efa",
           "#EF553B",
           "#00cc96",
           "#ab63fa",
           "#FFA15A",
           "#19d3f3",
           "#FF6692",
           "#B6E880",
           "#FF97FF",
           "#FECB52"
          ],
          "font": {
           "color": "#2a3f5f"
          },
          "geo": {
           "bgcolor": "white",
           "lakecolor": "white",
           "landcolor": "#E5ECF6",
           "showlakes": true,
           "showland": true,
           "subunitcolor": "white"
          },
          "hoverlabel": {
           "align": "left"
          },
          "hovermode": "closest",
          "mapbox": {
           "style": "light"
          },
          "paper_bgcolor": "white",
          "plot_bgcolor": "#E5ECF6",
          "polar": {
           "angularaxis": {
            "gridcolor": "white",
            "linecolor": "white",
            "ticks": ""
           },
           "bgcolor": "#E5ECF6",
           "radialaxis": {
            "gridcolor": "white",
            "linecolor": "white",
            "ticks": ""
           }
          },
          "scene": {
           "xaxis": {
            "backgroundcolor": "#E5ECF6",
            "gridcolor": "white",
            "gridwidth": 2,
            "linecolor": "white",
            "showbackground": true,
            "ticks": "",
            "zerolinecolor": "white"
           },
           "yaxis": {
            "backgroundcolor": "#E5ECF6",
            "gridcolor": "white",
            "gridwidth": 2,
            "linecolor": "white",
            "showbackground": true,
            "ticks": "",
            "zerolinecolor": "white"
           },
           "zaxis": {
            "backgroundcolor": "#E5ECF6",
            "gridcolor": "white",
            "gridwidth": 2,
            "linecolor": "white",
            "showbackground": true,
            "ticks": "",
            "zerolinecolor": "white"
           }
          },
          "shapedefaults": {
           "line": {
            "color": "#2a3f5f"
           }
          },
          "ternary": {
           "aaxis": {
            "gridcolor": "white",
            "linecolor": "white",
            "ticks": ""
           },
           "baxis": {
            "gridcolor": "white",
            "linecolor": "white",
            "ticks": ""
           },
           "bgcolor": "#E5ECF6",
           "caxis": {
            "gridcolor": "white",
            "linecolor": "white",
            "ticks": ""
           }
          },
          "title": {
           "x": 0.05
          },
          "xaxis": {
           "automargin": true,
           "gridcolor": "white",
           "linecolor": "white",
           "ticks": "",
           "title": {
            "standoff": 15
           },
           "zerolinecolor": "white",
           "zerolinewidth": 2
          },
          "yaxis": {
           "automargin": true,
           "gridcolor": "white",
           "linecolor": "white",
           "ticks": "",
           "title": {
            "standoff": 15
           },
           "zerolinecolor": "white",
           "zerolinewidth": 2
          }
         }
        },
        "title": {
         "text": "Variation of PHI across Products and Regions"
        },
        "xaxis": {
         "anchor": "y",
         "domain": [
          0,
          1
         ],
         "title": {
          "text": "Residues Region"
         }
        },
        "yaxis": {
         "anchor": "x",
         "domain": [
          0,
          1
         ],
         "title": {
          "text": "PHI"
         }
        }
       }
      },
      "text/html": [
       "<div>                            <div id=\"e3165fef-fcf9-4622-acce-c75031608525\" class=\"plotly-graph-div\" style=\"height:525px; width:100%;\"></div>            <script type=\"text/javascript\">                require([\"plotly\"], function(Plotly) {                    window.PLOTLYENV=window.PLOTLYENV || {};                                    if (document.getElementById(\"e3165fef-fcf9-4622-acce-c75031608525\")) {                    Plotly.newPlot(                        \"e3165fef-fcf9-4622-acce-c75031608525\",                        [{\"alignmentgroup\":\"True\",\"hovertemplate\":\"Product\\n(PLT short)=BIX+FLU+PTZ EC 260 (65+65+130 g/L)<br>Residues region=%{x}<br>PHI=%{y}<extra></extra>\",\"legendgroup\":\"BIX+FLU+PTZ EC 260 (65+65+130 g/L)\",\"marker\":{\"color\":\"#636efa\"},\"name\":\"BIX+FLU+PTZ EC 260 (65+65+130 g/L)\",\"notched\":false,\"offsetgroup\":\"BIX+FLU+PTZ EC 260 (65+65+130 g/L)\",\"orientation\":\"v\",\"showlegend\":true,\"x\":[\"North EU\",\"North EU\",\"North EU\",\"North EU\",\"North EU\",\"North EU\",\"North&South EU\",\"North&South EU\",\"North&South EU\",\"North&South EU\",\"North&South EU\",\"North&South EU\",\"South EU\",\"South EU\",\"South EU\",\"South EU\",\"South EU\",\"South EU\"],\"x0\":\" \",\"xaxis\":\"x\",\"y\":[-1,-1,-1,-1,-1,-1,-1,-1,-1,-1,-1,-1,-1,-1,-1,-1,-1,-1],\"y0\":\" \",\"yaxis\":\"y\",\"type\":\"box\"},{\"alignmentgroup\":\"True\",\"hovertemplate\":\"Product\\n(PLT short)=BIX+FXA+PTZ EC 190 (40+50+100 g/L)<br>Residues region=%{x}<br>PHI=%{y}<extra></extra>\",\"legendgroup\":\"BIX+FXA+PTZ EC 190 (40+50+100 g/L)\",\"marker\":{\"color\":\"#EF553B\"},\"name\":\"BIX+FXA+PTZ EC 190 (40+50+100 g/L)\",\"notched\":false,\"offsetgroup\":\"BIX+FXA+PTZ EC 190 (40+50+100 g/L)\",\"orientation\":\"v\",\"showlegend\":true,\"x\":[\"North EU\",\"North EU\",\"North EU\",\"North EU\",\"North EU\",\"North EU\",\"North EU\",\"North&South EU\",\"North&South EU\",\"North&South EU\",\"North&South EU\",\"North&South EU\",\"North&South EU\",\"South EU\",\"South EU\",\"South EU\",\"South EU\",\"South EU\",\"South EU\"],\"x0\":\" \",\"xaxis\":\"x\",\"y\":[-1,-1,-1,-1,-1,-1,-1,-1,-1,-1,-1,-1,-1,-1,-1,-1,-1,-1,-1],\"y0\":\" \",\"yaxis\":\"y\",\"type\":\"box\"},{\"alignmentgroup\":\"True\",\"hovertemplate\":\"Product\\n(PLT short)=BIX+PTZ EC 225 (75+150 g/L)<br>Residues region=%{x}<br>PHI=%{y}<extra></extra>\",\"legendgroup\":\"BIX+PTZ EC 225 (75+150 g/L)\",\"marker\":{\"color\":\"#00cc96\"},\"name\":\"BIX+PTZ EC 225 (75+150 g/L)\",\"notched\":false,\"offsetgroup\":\"BIX+PTZ EC 225 (75+150 g/L)\",\"orientation\":\"v\",\"showlegend\":true,\"x\":[\"North EU\",\"North EU\",\"North EU\",\"North EU\",\"North EU\",\"North EU\",\"North EU\",\"North EU\",\"North EU\",\"North EU\",\"North EU\",\"North&South EU\",\"North&South EU\",\"North&South EU\",\"North&South EU\",\"North&South EU\",\"North&South EU\",\"North&South EU\",\"North&South EU\",\"South EU\",\"South EU\",\"South EU\",\"South EU\",\"South EU\"],\"x0\":\" \",\"xaxis\":\"x\",\"y\":[-1,-1,-1,-1,-1,-1,-1,-1,-1,-1,-1,-1,30,-1,30,-1,-1,30,-1,-1,-1,-1,-1,-1],\"y0\":\" \",\"yaxis\":\"y\",\"type\":\"box\"},{\"alignmentgroup\":\"True\",\"hovertemplate\":\"Product\\n(PLT short)=BIX+PTZ EC 260 (60+200 g/L)<br>Residues region=%{x}<br>PHI=%{y}<extra></extra>\",\"legendgroup\":\"BIX+PTZ EC 260 (60+200 g/L)\",\"marker\":{\"color\":\"#ab63fa\"},\"name\":\"BIX+PTZ EC 260 (60+200 g/L)\",\"notched\":false,\"offsetgroup\":\"BIX+PTZ EC 260 (60+200 g/L)\",\"orientation\":\"v\",\"showlegend\":true,\"x\":[\"North EU\",\"North EU\",\"North EU\",\"North EU\",\"North EU\",\"North EU\",\"South EU\",\"South EU\",\"South EU\",\"South EU\",\"South EU\"],\"x0\":\" \",\"xaxis\":\"x\",\"y\":[-1,-1,-1,-1,-1,-1,-1,-1,-1,-1,-1],\"y0\":\" \",\"yaxis\":\"y\",\"type\":\"box\"},{\"alignmentgroup\":\"True\",\"hovertemplate\":\"Product\\n(PLT short)=BIX+PTZ+SPX EC 400 (50+100+250 g/L)<br>Residues region=%{x}<br>PHI=%{y}<extra></extra>\",\"legendgroup\":\"BIX+PTZ+SPX EC 400 (50+100+250 g/L)\",\"marker\":{\"color\":\"#FFA15A\"},\"name\":\"BIX+PTZ+SPX EC 400 (50+100+250 g/L)\",\"notched\":false,\"offsetgroup\":\"BIX+PTZ+SPX EC 400 (50+100+250 g/L)\",\"orientation\":\"v\",\"showlegend\":true,\"x\":[\"North EU\",\"North EU\",\"North EU\",\"North EU\",\"North EU\",\"North EU\",\"North EU\"],\"x0\":\" \",\"xaxis\":\"x\",\"y\":[-1,-1,-1,-1,-1,-1,-1],\"y0\":\" \",\"yaxis\":\"y\",\"type\":\"box\"},{\"alignmentgroup\":\"True\",\"hovertemplate\":\"Product\\n(PLT short)=FLU+PTZ SE 250 (125+125 g/L)<br>Residues region=%{x}<br>PHI=%{y}<extra></extra>\",\"legendgroup\":\"FLU+PTZ SE 250 (125+125 g/L)\",\"marker\":{\"color\":\"#19d3f3\"},\"name\":\"FLU+PTZ SE 250 (125+125 g/L)\",\"notched\":false,\"offsetgroup\":\"FLU+PTZ SE 250 (125+125 g/L)\",\"orientation\":\"v\",\"showlegend\":true,\"x\":[\"North EU\",\"North EU\",\"North EU\",\"North EU\",\"North EU\",\"North EU\",\"North EU\",\"North EU\",\"North EU\",\"North EU\",\"North EU\",\"North EU\",\"North EU\",\"North EU\",\"North EU\",\"North EU\",\"North EU\",\"North EU\",\"North EU\",\"North EU\",\"North EU\",\"North EU\",\"North EU\",\"North EU\",\"North EU\",\"North EU\",\"North EU\",\"North EU\",\"North EU\",\"North&South EU\",\"North&South EU\",\"North&South EU\",\"North&South EU\",\"North&South EU\",\"North&South EU\",\"South EU\",\"South EU\",\"South EU\",\"South EU\",\"South EU\",\"South EU\",\"South EU\",\"South EU\",\"South EU\"],\"x0\":\" \",\"xaxis\":\"x\",\"y\":[35,35,-1,-1,-1,14,28,7,-1,56,35,7,35,56,21,21,56,28,-1,35,7,-1,56,-1,28,21,35,21,35,21,-1,-1,21,56,-1,-1,7,7,21,56,7,28,-1,28],\"y0\":\" \",\"yaxis\":\"y\",\"type\":\"box\"},{\"alignmentgroup\":\"True\",\"hovertemplate\":\"Product\\n(PLT short)=FXA+PTZ EC 150 (50+100 g/L)<br>Residues region=%{x}<br>PHI=%{y}<extra></extra>\",\"legendgroup\":\"FXA+PTZ EC 150 (50+100 g/L)\",\"marker\":{\"color\":\"#FF6692\"},\"name\":\"FXA+PTZ EC 150 (50+100 g/L)\",\"notched\":false,\"offsetgroup\":\"FXA+PTZ EC 150 (50+100 g/L)\",\"orientation\":\"v\",\"showlegend\":true,\"x\":[\"North EU\",\"North EU\",\"North EU\",\"North EU\",\"North EU\",\"North EU\",\"North EU\",\"North&South EU\",\"North&South EU\",\"North&South EU\",\"North&South EU\",\"North&South EU\",\"North&South EU\",\"North&South EU\"],\"x0\":\" \",\"xaxis\":\"x\",\"y\":[-1,-1,-1,-1,-1,-1,-1,-1,-1,-1,1,-1,-1,-1],\"y0\":\" \",\"yaxis\":\"y\",\"type\":\"box\"},{\"alignmentgroup\":\"True\",\"hovertemplate\":\"Product\\n(PLT short)=FXA+PTZ EC 200 (100+100 g/L)<br>Residues region=%{x}<br>PHI=%{y}<extra></extra>\",\"legendgroup\":\"FXA+PTZ EC 200 (100+100 g/L)\",\"marker\":{\"color\":\"#B6E880\"},\"name\":\"FXA+PTZ EC 200 (100+100 g/L)\",\"notched\":false,\"offsetgroup\":\"FXA+PTZ EC 200 (100+100 g/L)\",\"orientation\":\"v\",\"showlegend\":true,\"x\":[\"North EU\",\"North EU\",\"North EU\",\"North EU\",\"North EU\",\"North EU\",\"North EU\",\"North EU\",\"North EU\",\"South EU\"],\"x0\":\" \",\"xaxis\":\"x\",\"y\":[-1,-1,-1,-1,-1,-1,-1,-1,-1,21],\"y0\":\" \",\"yaxis\":\"y\",\"type\":\"box\"},{\"alignmentgroup\":\"True\",\"hovertemplate\":\"Product\\n(PLT short)=PQA+PTZ+SPX EC 400 (40+160+200 g/L)<br>Residues region=%{x}<br>PHI=%{y}<extra></extra>\",\"legendgroup\":\"PQA+PTZ+SPX EC 400 (40+160+200 g/L)\",\"marker\":{\"color\":\"#FF97FF\"},\"name\":\"PQA+PTZ+SPX EC 400 (40+160+200 g/L)\",\"notched\":false,\"offsetgroup\":\"PQA+PTZ+SPX EC 400 (40+160+200 g/L)\",\"orientation\":\"v\",\"showlegend\":true,\"x\":[\"North EU\",\"North EU\",\"North EU\",\"North EU\",\"North EU\",\"North EU\",\"North EU\"],\"x0\":\" \",\"xaxis\":\"x\",\"y\":[-1,-1,-1,-1,-1,-1,-1],\"y0\":\" \",\"yaxis\":\"y\",\"type\":\"box\"},{\"alignmentgroup\":\"True\",\"hovertemplate\":\"Product\\n(PLT short)=PTZ EC 250 (250 g/L)<br>Residues region=%{x}<br>PHI=%{y}<extra></extra>\",\"legendgroup\":\"PTZ EC 250 (250 g/L)\",\"marker\":{\"color\":\"#FECB52\"},\"name\":\"PTZ EC 250 (250 g/L)\",\"notched\":false,\"offsetgroup\":\"PTZ EC 250 (250 g/L)\",\"orientation\":\"v\",\"showlegend\":true,\"x\":[\"North EU\",\"North EU\",\"North EU\",\"North EU\",\"North EU\",\"North EU\",\"North EU\",\"North EU\",\"North&South EU\",\"North&South EU\",\"North&South EU\",\"North&South EU\",\"North&South EU\",\"North&South EU\",\"North&South EU\",\"South EU\",\"South EU\",\"South EU\",\"South EU\",\"South EU\",\"South EU\",\"South EU\"],\"x0\":\" \",\"xaxis\":\"x\",\"y\":[-1,-1,56,-1,-1,-1,-1,-1,-1,56,-1,56,-1,-1,-1,-1,56,-1,56,-1,-1,-1],\"y0\":\" \",\"yaxis\":\"y\",\"type\":\"box\"},{\"alignmentgroup\":\"True\",\"hovertemplate\":\"Product\\n(PLT short)=PTZ+SPX EC 460 (160+300 g/L)<br>Residues region=%{x}<br>PHI=%{y}<extra></extra>\",\"legendgroup\":\"PTZ+SPX EC 460 (160+300 g/L)\",\"marker\":{\"color\":\"#636efa\"},\"name\":\"PTZ+SPX EC 460 (160+300 g/L)\",\"notched\":false,\"offsetgroup\":\"PTZ+SPX EC 460 (160+300 g/L)\",\"orientation\":\"v\",\"showlegend\":true,\"x\":[\"North EU\",\"North EU\",\"North EU\",\"North EU\",\"North EU\",\"North EU\",\"North EU\",\"North EU\",\"North&South EU\",\"North&South EU\",\"North&South EU\",\"North&South EU\",\"North&South EU\",\"North&South EU\",\"South EU\",\"South EU\",\"South EU\",\"South EU\",\"South EU\",\"South EU\",\"South EU\",\"South EU\"],\"x0\":\" \",\"xaxis\":\"x\",\"y\":[-1,-1,-1,-1,-1,-1,-1,-1,-1,-1,-1,-1,-1,-1,-1,-1,-1,-1,-1,-1,-1,-1],\"y0\":\" \",\"yaxis\":\"y\",\"type\":\"box\"},{\"alignmentgroup\":\"True\",\"hovertemplate\":\"Product\\n(PLT short)=PTZ+SPX+TFS EC 280.3 (93.3+107+80 g/L)<br>Residues region=%{x}<br>PHI=%{y}<extra></extra>\",\"legendgroup\":\"PTZ+SPX+TFS EC 280.3 (93.3+107+80 g/L)\",\"marker\":{\"color\":\"#EF553B\"},\"name\":\"PTZ+SPX+TFS EC 280.3 (93.3+107+80 g/L)\",\"notched\":false,\"offsetgroup\":\"PTZ+SPX+TFS EC 280.3 (93.3+107+80 g/L)\",\"orientation\":\"v\",\"showlegend\":true,\"x\":[\"North EU\",\"North EU\",\"North EU\",\"North EU\",\"North EU\",\"North EU\",\"North EU\",\"North&South EU\",\"North&South EU\",\"North&South EU\",\"North&South EU\",\"North&South EU\",\"South EU\",\"South EU\",\"South EU\",\"South EU\",\"South EU\",\"South EU\",\"South EU\"],\"x0\":\" \",\"xaxis\":\"x\",\"y\":[-1,-1,-1,-1,-1,-1,-1,-1,-1,-1,-1,-1,-1,-1,-1,-1,-1,-1,-1],\"y0\":\" \",\"yaxis\":\"y\",\"type\":\"box\"},{\"alignmentgroup\":\"True\",\"hovertemplate\":\"Product\\n(PLT short)=PTZ+TFS SC 325 (175+150 g/L)<br>Residues region=%{x}<br>PHI=%{y}<extra></extra>\",\"legendgroup\":\"PTZ+TFS SC 325 (175+150 g/L)\",\"marker\":{\"color\":\"#00cc96\"},\"name\":\"PTZ+TFS SC 325 (175+150 g/L)\",\"notched\":false,\"offsetgroup\":\"PTZ+TFS SC 325 (175+150 g/L)\",\"orientation\":\"v\",\"showlegend\":true,\"x\":[\"North EU\",\"North EU\",\"North EU\",\"North EU\",\"North EU\",\"North EU\"],\"x0\":\" \",\"xaxis\":\"x\",\"y\":[-1,-1,-1,-1,-1,-1],\"y0\":\" \",\"yaxis\":\"y\",\"type\":\"box\"},{\"alignmentgroup\":\"True\",\"hovertemplate\":\"Product\\n(PLT short)=Prothioconazole SC 480 (480 g/L)<br>Residues region=%{x}<br>PHI=%{y}<extra></extra>\",\"legendgroup\":\"Prothioconazole SC 480 (480 g/L)\",\"marker\":{\"color\":\"#ab63fa\"},\"name\":\"Prothioconazole SC 480 (480 g/L)\",\"notched\":false,\"offsetgroup\":\"Prothioconazole SC 480 (480 g/L)\",\"orientation\":\"v\",\"showlegend\":true,\"x\":[\"North EU\",\"North EU\",\"North EU\",\"North EU\",\"North EU\",\"North EU\",\"North EU\",\"North EU\",\"North EU\",\"North EU\",\"North EU\",\"North EU\",\"North EU\",\"North EU\",\"North EU\",\"North EU\",\"North EU\",\"North EU\",\"North EU\",\"North EU\",\"North EU\",\"North EU\",\"North EU\",\"North EU\",\"North EU\",\"North EU\",\"North EU\",\"North EU\",\"North EU\",\"North EU\",\"North EU\"],\"x0\":\" \",\"xaxis\":\"x\",\"y\":[21,21,21,21,21,21,21,21,21,21,-1,-1,-1,-1,-1,-1,-1,-1,21,-1,21,-1,-1,21,21,21,21,-1,21,21,21],\"y0\":\" \",\"yaxis\":\"y\",\"type\":\"box\"},{\"alignmentgroup\":\"True\",\"hovertemplate\":\"Product\\n(PLT short)=FXA+PTZ EC 150 (50+100 g/L) neo<br>Residues region=%{x}<br>PHI=%{y}<extra></extra>\",\"legendgroup\":\"FXA+PTZ EC 150 (50+100 g/L) neo\",\"marker\":{\"color\":\"#FFA15A\"},\"name\":\"FXA+PTZ EC 150 (50+100 g/L) neo\",\"notched\":false,\"offsetgroup\":\"FXA+PTZ EC 150 (50+100 g/L) neo\",\"orientation\":\"v\",\"showlegend\":true,\"x\":[\"North&South EU\",\"North&South EU\",\"North&South EU\",\"North&South EU\",\"North&South EU\"],\"x0\":\" \",\"xaxis\":\"x\",\"y\":[-1,-1,-1,-1,-1],\"y0\":\" \",\"yaxis\":\"y\",\"type\":\"box\"},{\"alignmentgroup\":\"True\",\"hovertemplate\":\"Product\\n(PLT short)=PTZ+TFS SC 263 (175+88 g/L)<br>Residues region=%{x}<br>PHI=%{y}<extra></extra>\",\"legendgroup\":\"PTZ+TFS SC 263 (175+88 g/L)\",\"marker\":{\"color\":\"#19d3f3\"},\"name\":\"PTZ+TFS SC 263 (175+88 g/L)\",\"notched\":false,\"offsetgroup\":\"PTZ+TFS SC 263 (175+88 g/L)\",\"orientation\":\"v\",\"showlegend\":true,\"x\":[\"North&South EU\",\"North&South EU\",\"North&South EU\",\"North&South EU\",\"South EU\",\"South EU\",\"South EU\",\"South EU\"],\"x0\":\" \",\"xaxis\":\"x\",\"y\":[-1,-1,-1,-1,-1,-1,-1,-1],\"y0\":\" \",\"yaxis\":\"y\",\"type\":\"box\"},{\"alignmentgroup\":\"True\",\"hovertemplate\":\"Product\\n(PLT short)=STOP<br>Residues region=%{x}<br>PHI=%{y}<extra></extra>\",\"legendgroup\":\"STOP\",\"marker\":{\"color\":\"#FF6692\"},\"name\":\"STOP\",\"notched\":false,\"offsetgroup\":\"STOP\",\"orientation\":\"v\",\"showlegend\":true,\"x\":[\"STOP\"],\"x0\":\" \",\"xaxis\":\"x\",\"y\":[\"STOP\"],\"y0\":\" \",\"yaxis\":\"y\",\"type\":\"box\"}],                        {\"template\":{\"data\":{\"bar\":[{\"error_x\":{\"color\":\"#2a3f5f\"},\"error_y\":{\"color\":\"#2a3f5f\"},\"marker\":{\"line\":{\"color\":\"#E5ECF6\",\"width\":0.5},\"pattern\":{\"fillmode\":\"overlay\",\"size\":10,\"solidity\":0.2}},\"type\":\"bar\"}],\"barpolar\":[{\"marker\":{\"line\":{\"color\":\"#E5ECF6\",\"width\":0.5},\"pattern\":{\"fillmode\":\"overlay\",\"size\":10,\"solidity\":0.2}},\"type\":\"barpolar\"}],\"carpet\":[{\"aaxis\":{\"endlinecolor\":\"#2a3f5f\",\"gridcolor\":\"white\",\"linecolor\":\"white\",\"minorgridcolor\":\"white\",\"startlinecolor\":\"#2a3f5f\"},\"baxis\":{\"endlinecolor\":\"#2a3f5f\",\"gridcolor\":\"white\",\"linecolor\":\"white\",\"minorgridcolor\":\"white\",\"startlinecolor\":\"#2a3f5f\"},\"type\":\"carpet\"}],\"choropleth\":[{\"colorbar\":{\"outlinewidth\":0,\"ticks\":\"\"},\"type\":\"choropleth\"}],\"contour\":[{\"colorbar\":{\"outlinewidth\":0,\"ticks\":\"\"},\"colorscale\":[[0.0,\"#0d0887\"],[0.1111111111111111,\"#46039f\"],[0.2222222222222222,\"#7201a8\"],[0.3333333333333333,\"#9c179e\"],[0.4444444444444444,\"#bd3786\"],[0.5555555555555556,\"#d8576b\"],[0.6666666666666666,\"#ed7953\"],[0.7777777777777778,\"#fb9f3a\"],[0.8888888888888888,\"#fdca26\"],[1.0,\"#f0f921\"]],\"type\":\"contour\"}],\"contourcarpet\":[{\"colorbar\":{\"outlinewidth\":0,\"ticks\":\"\"},\"type\":\"contourcarpet\"}],\"heatmap\":[{\"colorbar\":{\"outlinewidth\":0,\"ticks\":\"\"},\"colorscale\":[[0.0,\"#0d0887\"],[0.1111111111111111,\"#46039f\"],[0.2222222222222222,\"#7201a8\"],[0.3333333333333333,\"#9c179e\"],[0.4444444444444444,\"#bd3786\"],[0.5555555555555556,\"#d8576b\"],[0.6666666666666666,\"#ed7953\"],[0.7777777777777778,\"#fb9f3a\"],[0.8888888888888888,\"#fdca26\"],[1.0,\"#f0f921\"]],\"type\":\"heatmap\"}],\"heatmapgl\":[{\"colorbar\":{\"outlinewidth\":0,\"ticks\":\"\"},\"colorscale\":[[0.0,\"#0d0887\"],[0.1111111111111111,\"#46039f\"],[0.2222222222222222,\"#7201a8\"],[0.3333333333333333,\"#9c179e\"],[0.4444444444444444,\"#bd3786\"],[0.5555555555555556,\"#d8576b\"],[0.6666666666666666,\"#ed7953\"],[0.7777777777777778,\"#fb9f3a\"],[0.8888888888888888,\"#fdca26\"],[1.0,\"#f0f921\"]],\"type\":\"heatmapgl\"}],\"histogram\":[{\"marker\":{\"pattern\":{\"fillmode\":\"overlay\",\"size\":10,\"solidity\":0.2}},\"type\":\"histogram\"}],\"histogram2d\":[{\"colorbar\":{\"outlinewidth\":0,\"ticks\":\"\"},\"colorscale\":[[0.0,\"#0d0887\"],[0.1111111111111111,\"#46039f\"],[0.2222222222222222,\"#7201a8\"],[0.3333333333333333,\"#9c179e\"],[0.4444444444444444,\"#bd3786\"],[0.5555555555555556,\"#d8576b\"],[0.6666666666666666,\"#ed7953\"],[0.7777777777777778,\"#fb9f3a\"],[0.8888888888888888,\"#fdca26\"],[1.0,\"#f0f921\"]],\"type\":\"histogram2d\"}],\"histogram2dcontour\":[{\"colorbar\":{\"outlinewidth\":0,\"ticks\":\"\"},\"colorscale\":[[0.0,\"#0d0887\"],[0.1111111111111111,\"#46039f\"],[0.2222222222222222,\"#7201a8\"],[0.3333333333333333,\"#9c179e\"],[0.4444444444444444,\"#bd3786\"],[0.5555555555555556,\"#d8576b\"],[0.6666666666666666,\"#ed7953\"],[0.7777777777777778,\"#fb9f3a\"],[0.8888888888888888,\"#fdca26\"],[1.0,\"#f0f921\"]],\"type\":\"histogram2dcontour\"}],\"mesh3d\":[{\"colorbar\":{\"outlinewidth\":0,\"ticks\":\"\"},\"type\":\"mesh3d\"}],\"parcoords\":[{\"line\":{\"colorbar\":{\"outlinewidth\":0,\"ticks\":\"\"}},\"type\":\"parcoords\"}],\"pie\":[{\"automargin\":true,\"type\":\"pie\"}],\"scatter\":[{\"marker\":{\"colorbar\":{\"outlinewidth\":0,\"ticks\":\"\"}},\"type\":\"scatter\"}],\"scatter3d\":[{\"line\":{\"colorbar\":{\"outlinewidth\":0,\"ticks\":\"\"}},\"marker\":{\"colorbar\":{\"outlinewidth\":0,\"ticks\":\"\"}},\"type\":\"scatter3d\"}],\"scattercarpet\":[{\"marker\":{\"colorbar\":{\"outlinewidth\":0,\"ticks\":\"\"}},\"type\":\"scattercarpet\"}],\"scattergeo\":[{\"marker\":{\"colorbar\":{\"outlinewidth\":0,\"ticks\":\"\"}},\"type\":\"scattergeo\"}],\"scattergl\":[{\"marker\":{\"colorbar\":{\"outlinewidth\":0,\"ticks\":\"\"}},\"type\":\"scattergl\"}],\"scattermapbox\":[{\"marker\":{\"colorbar\":{\"outlinewidth\":0,\"ticks\":\"\"}},\"type\":\"scattermapbox\"}],\"scatterpolar\":[{\"marker\":{\"colorbar\":{\"outlinewidth\":0,\"ticks\":\"\"}},\"type\":\"scatterpolar\"}],\"scatterpolargl\":[{\"marker\":{\"colorbar\":{\"outlinewidth\":0,\"ticks\":\"\"}},\"type\":\"scatterpolargl\"}],\"scatterternary\":[{\"marker\":{\"colorbar\":{\"outlinewidth\":0,\"ticks\":\"\"}},\"type\":\"scatterternary\"}],\"surface\":[{\"colorbar\":{\"outlinewidth\":0,\"ticks\":\"\"},\"colorscale\":[[0.0,\"#0d0887\"],[0.1111111111111111,\"#46039f\"],[0.2222222222222222,\"#7201a8\"],[0.3333333333333333,\"#9c179e\"],[0.4444444444444444,\"#bd3786\"],[0.5555555555555556,\"#d8576b\"],[0.6666666666666666,\"#ed7953\"],[0.7777777777777778,\"#fb9f3a\"],[0.8888888888888888,\"#fdca26\"],[1.0,\"#f0f921\"]],\"type\":\"surface\"}],\"table\":[{\"cells\":{\"fill\":{\"color\":\"#EBF0F8\"},\"line\":{\"color\":\"white\"}},\"header\":{\"fill\":{\"color\":\"#C8D4E3\"},\"line\":{\"color\":\"white\"}},\"type\":\"table\"}]},\"layout\":{\"annotationdefaults\":{\"arrowcolor\":\"#2a3f5f\",\"arrowhead\":0,\"arrowwidth\":1},\"autotypenumbers\":\"strict\",\"coloraxis\":{\"colorbar\":{\"outlinewidth\":0,\"ticks\":\"\"}},\"colorscale\":{\"diverging\":[[0,\"#8e0152\"],[0.1,\"#c51b7d\"],[0.2,\"#de77ae\"],[0.3,\"#f1b6da\"],[0.4,\"#fde0ef\"],[0.5,\"#f7f7f7\"],[0.6,\"#e6f5d0\"],[0.7,\"#b8e186\"],[0.8,\"#7fbc41\"],[0.9,\"#4d9221\"],[1,\"#276419\"]],\"sequential\":[[0.0,\"#0d0887\"],[0.1111111111111111,\"#46039f\"],[0.2222222222222222,\"#7201a8\"],[0.3333333333333333,\"#9c179e\"],[0.4444444444444444,\"#bd3786\"],[0.5555555555555556,\"#d8576b\"],[0.6666666666666666,\"#ed7953\"],[0.7777777777777778,\"#fb9f3a\"],[0.8888888888888888,\"#fdca26\"],[1.0,\"#f0f921\"]],\"sequentialminus\":[[0.0,\"#0d0887\"],[0.1111111111111111,\"#46039f\"],[0.2222222222222222,\"#7201a8\"],[0.3333333333333333,\"#9c179e\"],[0.4444444444444444,\"#bd3786\"],[0.5555555555555556,\"#d8576b\"],[0.6666666666666666,\"#ed7953\"],[0.7777777777777778,\"#fb9f3a\"],[0.8888888888888888,\"#fdca26\"],[1.0,\"#f0f921\"]]},\"colorway\":[\"#636efa\",\"#EF553B\",\"#00cc96\",\"#ab63fa\",\"#FFA15A\",\"#19d3f3\",\"#FF6692\",\"#B6E880\",\"#FF97FF\",\"#FECB52\"],\"font\":{\"color\":\"#2a3f5f\"},\"geo\":{\"bgcolor\":\"white\",\"lakecolor\":\"white\",\"landcolor\":\"#E5ECF6\",\"showlakes\":true,\"showland\":true,\"subunitcolor\":\"white\"},\"hoverlabel\":{\"align\":\"left\"},\"hovermode\":\"closest\",\"mapbox\":{\"style\":\"light\"},\"paper_bgcolor\":\"white\",\"plot_bgcolor\":\"#E5ECF6\",\"polar\":{\"angularaxis\":{\"gridcolor\":\"white\",\"linecolor\":\"white\",\"ticks\":\"\"},\"bgcolor\":\"#E5ECF6\",\"radialaxis\":{\"gridcolor\":\"white\",\"linecolor\":\"white\",\"ticks\":\"\"}},\"scene\":{\"xaxis\":{\"backgroundcolor\":\"#E5ECF6\",\"gridcolor\":\"white\",\"gridwidth\":2,\"linecolor\":\"white\",\"showbackground\":true,\"ticks\":\"\",\"zerolinecolor\":\"white\"},\"yaxis\":{\"backgroundcolor\":\"#E5ECF6\",\"gridcolor\":\"white\",\"gridwidth\":2,\"linecolor\":\"white\",\"showbackground\":true,\"ticks\":\"\",\"zerolinecolor\":\"white\"},\"zaxis\":{\"backgroundcolor\":\"#E5ECF6\",\"gridcolor\":\"white\",\"gridwidth\":2,\"linecolor\":\"white\",\"showbackground\":true,\"ticks\":\"\",\"zerolinecolor\":\"white\"}},\"shapedefaults\":{\"line\":{\"color\":\"#2a3f5f\"}},\"ternary\":{\"aaxis\":{\"gridcolor\":\"white\",\"linecolor\":\"white\",\"ticks\":\"\"},\"baxis\":{\"gridcolor\":\"white\",\"linecolor\":\"white\",\"ticks\":\"\"},\"bgcolor\":\"#E5ECF6\",\"caxis\":{\"gridcolor\":\"white\",\"linecolor\":\"white\",\"ticks\":\"\"}},\"title\":{\"x\":0.05},\"xaxis\":{\"automargin\":true,\"gridcolor\":\"white\",\"linecolor\":\"white\",\"ticks\":\"\",\"title\":{\"standoff\":15},\"zerolinecolor\":\"white\",\"zerolinewidth\":2},\"yaxis\":{\"automargin\":true,\"gridcolor\":\"white\",\"linecolor\":\"white\",\"ticks\":\"\",\"title\":{\"standoff\":15},\"zerolinecolor\":\"white\",\"zerolinewidth\":2}}},\"xaxis\":{\"anchor\":\"y\",\"domain\":[0.0,1.0],\"title\":{\"text\":\"Residues Region\"}},\"yaxis\":{\"anchor\":\"x\",\"domain\":[0.0,1.0],\"title\":{\"text\":\"PHI\"}},\"legend\":{\"title\":{\"text\":\"Product\\n(PLT short)\"},\"tracegroupgap\":0},\"margin\":{\"t\":60},\"boxmode\":\"group\",\"title\":{\"text\":\"Variation of PHI across Products and Regions\"}},                        {\"responsive\": true}                    ).then(function(){\n",
       "                            \n",
       "var gd = document.getElementById('e3165fef-fcf9-4622-acce-c75031608525');\n",
       "var x = new MutationObserver(function (mutations, observer) {{\n",
       "        var display = window.getComputedStyle(gd).display;\n",
       "        if (!display || display === 'none') {{\n",
       "            console.log([gd, 'removed!']);\n",
       "            Plotly.purge(gd);\n",
       "            observer.disconnect();\n",
       "        }}\n",
       "}});\n",
       "\n",
       "// Listen for the removal of the full notebook cells\n",
       "var notebookContainer = gd.closest('#notebook-container');\n",
       "if (notebookContainer) {{\n",
       "    x.observe(notebookContainer, {childList: true});\n",
       "}}\n",
       "\n",
       "// Listen for the clearing of the current output cell\n",
       "var outputEl = gd.closest('.output');\n",
       "if (outputEl) {{\n",
       "    x.observe(outputEl, {childList: true});\n",
       "}}\n",
       "\n",
       "                        })                };                });            </script>        </div>"
      ]
     },
     "metadata": {},
     "output_type": "display_data"
    }
   ],
   "source": [
    "# Create a box plot to visualize the variation of PHI across different products and regions\n",
    "fig = px.box(critical_values_symp, x='Residues region', y='PHI', color='Product\\n(PLT short)')\n",
    "fig.update_layout(title='Variation of PHI across Products and Regions', xaxis_title='Residues Region', yaxis_title='PHI')\n",
    "fig.show()"
   ]
  },
  {
   "cell_type": "markdown",
   "id": "a02124bc",
   "metadata": {},
   "source": [
    " In the box plot that visualizes the variation of 'PHI' across different products and regions, each box represents the distribution of 'PHI' values for a specific product within each region. \n",
    " \n",
    " \n",
    " \n",
    "- Box Position: The position of the box on the y-axis represents the central tendency of the 'PHI' values for the specific product within each region. The box's position indicates the median 'PHI' value, providing insight into the typical value for each product and region.\n",
    "\n",
    "- Box Height: The height of the box represents the interquartile range (IQR) of the 'PHI' values for the specific product within each region. It shows the spread and variability of the 'PHI' values, with taller boxes indicating a wider range of values.\n",
    "\n",
    "- Whiskers: The whiskers extending from the boxes show the range of 'PHI' values, excluding outliers. They provide information about the minimum and maximum values within 1.5 times the IQR from the first and third quartiles.\n",
    "\n",
    "- Outliers: Any individual points beyond the whiskers are considered outliers and are plotted individually. They represent the 'PHI' values that fall significantly outside the typical range for the specific product within each region.\n",
    "\n",
    "By analyzing the box plots for each formulation, you can compare the central tendency, spread, and variability of 'PHI' values across different products and regions, identifying any potential differences or patterns."
   ]
  },
  {
   "cell_type": "code",
   "execution_count": null,
   "id": "056e5eb6",
   "metadata": {},
   "outputs": [],
   "source": []
  }
 ],
 "metadata": {
  "kernelspec": {
   "display_name": "Python 3 (ipykernel)",
   "language": "python",
   "name": "python3"
  },
  "language_info": {
   "codemirror_mode": {
    "name": "ipython",
    "version": 3
   },
   "file_extension": ".py",
   "mimetype": "text/x-python",
   "name": "python",
   "nbconvert_exporter": "python",
   "pygments_lexer": "ipython3",
   "version": "3.9.13"
  }
 },
 "nbformat": 4,
 "nbformat_minor": 5
}
